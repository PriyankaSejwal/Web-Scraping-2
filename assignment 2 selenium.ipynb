{
 "cells": [
  {
   "cell_type": "code",
   "execution_count": 39,
   "metadata": {},
   "outputs": [
    {
     "name": "stdout",
     "output_type": "stream",
     "text": [
      "Requirement already satisfied: selenium in c:\\users\\priyanka\\anaconda3\\lib\\site-packages (3.141.0)\n",
      "Requirement already satisfied: urllib3 in c:\\users\\priyanka\\anaconda3\\lib\\site-packages (from selenium) (1.25.9)\n"
     ]
    }
   ],
   "source": [
    "!pip install selenium"
   ]
  },
  {
   "cell_type": "code",
   "execution_count": 2,
   "metadata": {},
   "outputs": [],
   "source": [
    "#importing necessary libraries\n",
    "import selenium\n",
    "import pandas as pd\n",
    "from selenium import webdriver\n",
    "import requests\n",
    "from bs4 import BeautifulSoup\n",
    "from selenium.webdriver.common.keys import Keys"
   ]
  },
  {
   "cell_type": "markdown",
   "metadata": {},
   "source": [
    "# Q1. 10 Data analyst job positions in bangalore details."
   ]
  },
  {
   "cell_type": "code",
   "execution_count": 41,
   "metadata": {},
   "outputs": [],
   "source": [
    "#Connecting to webcriver.\n",
    "driver=webdriver.Chrome(executable_path= r'C:\\Users\\Priyanka\\Documents\\chromedriver.exe')"
   ]
  },
  {
   "cell_type": "code",
   "execution_count": 42,
   "metadata": {},
   "outputs": [],
   "source": [
    "#opening the desired site\n",
    "driver.get('https://www.naukri.com/')"
   ]
  },
  {
   "cell_type": "code",
   "execution_count": 43,
   "metadata": {},
   "outputs": [],
   "source": [
    "#finding element for job search bar\n",
    "search_job=driver.find_element_by_id('qsb-keyword-sugg')\n",
    "search_job.send_keys('Data Analyst')\n",
    "search_loc=driver.find_element_by_xpath(\"//input[@id='qsb-location-sugg']\")\n",
    "search_loc.send_keys('Bangalore')"
   ]
  },
  {
   "cell_type": "code",
   "execution_count": 44,
   "metadata": {},
   "outputs": [],
   "source": [
    "btn=driver.find_element_by_xpath(\"//div[@class='search-btn']/button\")\n",
    "btn.click()"
   ]
  },
  {
   "cell_type": "code",
   "execution_count": 45,
   "metadata": {},
   "outputs": [],
   "source": [
    "#specifying the url of the web page to be scraped\n",
    "url=\"https://www.naukri.com/data-analyst-jobs-in-bangalore?k=data%20analyst&l=bangalore\""
   ]
  },
  {
   "cell_type": "code",
   "execution_count": 46,
   "metadata": {},
   "outputs": [],
   "source": [
    "#opening the webpage through the web driver\n",
    "driver.get(url)"
   ]
  },
  {
   "cell_type": "code",
   "execution_count": 47,
   "metadata": {},
   "outputs": [],
   "source": [
    "Title=[]\n",
    "Company=[]\n",
    "Location=[]\n",
    "Experience=[]\n",
    "title=driver.find_elements_by_xpath(\"//div[@class='info fleft']/a\")\n",
    "for i in title[0:10]:\n",
    "    Title.append(i.text)\n",
    "\n",
    "    \n",
    "company=driver.find_elements_by_xpath(\"//a[@class='subTitle ellipsis fleft']\")\n",
    "for i in company[0:10]:\n",
    "    Company.append(i.text)\n",
    "    \n",
    "    \n",
    "loc=driver.find_elements_by_xpath(\"//li[@class='fleft grey-text br2 placeHolderLi location']/span\")\n",
    "for i in loc[0:10]:\n",
    "    Location.append(i.text)\n",
    "    \n",
    "    \n",
    "exp=driver.find_elements_by_xpath(\"//li[@class='fleft grey-text br2 placeHolderLi experience']/span\")\n",
    "for i in exp[0:10]:\n",
    "    Experience.append(i.text)\n"
   ]
  },
  {
   "cell_type": "code",
   "execution_count": 49,
   "metadata": {},
   "outputs": [
    {
     "data": {
      "text/html": [
       "<div>\n",
       "<style scoped>\n",
       "    .dataframe tbody tr th:only-of-type {\n",
       "        vertical-align: middle;\n",
       "    }\n",
       "\n",
       "    .dataframe tbody tr th {\n",
       "        vertical-align: top;\n",
       "    }\n",
       "\n",
       "    .dataframe thead th {\n",
       "        text-align: right;\n",
       "    }\n",
       "</style>\n",
       "<table border=\"1\" class=\"dataframe\">\n",
       "  <thead>\n",
       "    <tr style=\"text-align: right;\">\n",
       "      <th></th>\n",
       "      <th>Title</th>\n",
       "      <th>Company_Name</th>\n",
       "      <th>Location</th>\n",
       "      <th>Experience</th>\n",
       "    </tr>\n",
       "  </thead>\n",
       "  <tbody>\n",
       "    <tr>\n",
       "      <th>0</th>\n",
       "      <td>MIS/ Data Analyst-(SQL,Automation,Excel/PowerB...</td>\n",
       "      <td>Flipkart Internet Private Limited</td>\n",
       "      <td>Bengaluru</td>\n",
       "      <td>1-4 Yrs</td>\n",
       "    </tr>\n",
       "    <tr>\n",
       "      <th>1</th>\n",
       "      <td>Data Analyst - SAP</td>\n",
       "      <td>Boston Scientific Corporation</td>\n",
       "      <td>Pune, Delhi, Bengaluru, Gurgaon</td>\n",
       "      <td>3-5 Yrs</td>\n",
       "    </tr>\n",
       "    <tr>\n",
       "      <th>2</th>\n",
       "      <td>Hiring Data Analysts on Contract</td>\n",
       "      <td>Flipkart Internet Private Limited</td>\n",
       "      <td>Bengaluru</td>\n",
       "      <td>2-5 Yrs</td>\n",
       "    </tr>\n",
       "    <tr>\n",
       "      <th>3</th>\n",
       "      <td>Senior Data Analyst</td>\n",
       "      <td>Schneider Electric</td>\n",
       "      <td>Bengaluru / Bangalore</td>\n",
       "      <td>2-5 Yrs</td>\n",
       "    </tr>\n",
       "    <tr>\n",
       "      <th>4</th>\n",
       "      <td>Data Analyst</td>\n",
       "      <td>Shell India Markets Private Limited</td>\n",
       "      <td>Bengaluru</td>\n",
       "      <td>5-8 Yrs</td>\n",
       "    </tr>\n",
       "    <tr>\n",
       "      <th>5</th>\n",
       "      <td>Data Analyst -Azure Data lake, Azure Data factory</td>\n",
       "      <td>Mindtree Limited</td>\n",
       "      <td>Chennai, Pune, Bengaluru, Hyderabad</td>\n",
       "      <td>5-9 Yrs</td>\n",
       "    </tr>\n",
       "    <tr>\n",
       "      <th>6</th>\n",
       "      <td>Business / Data Analyst</td>\n",
       "      <td>IBM India Pvt. Limited</td>\n",
       "      <td>Bengaluru</td>\n",
       "      <td>2-4 Yrs</td>\n",
       "    </tr>\n",
       "    <tr>\n",
       "      <th>7</th>\n",
       "      <td>Data Analyst - O2C - Bangalore</td>\n",
       "      <td>RANDSTAD INDIA PVT LTD</td>\n",
       "      <td>Bengaluru</td>\n",
       "      <td>2-4 Yrs</td>\n",
       "    </tr>\n",
       "    <tr>\n",
       "      <th>8</th>\n",
       "      <td>Intern Data Analyst</td>\n",
       "      <td>Outsource Big Data</td>\n",
       "      <td>Bengaluru</td>\n",
       "      <td>0-1 Yrs</td>\n",
       "    </tr>\n",
       "    <tr>\n",
       "      <th>9</th>\n",
       "      <td>NiFi Data Analyst</td>\n",
       "      <td>Capgemini Technology Services India Limited</td>\n",
       "      <td>Bengaluru</td>\n",
       "      <td>4-6 Yrs</td>\n",
       "    </tr>\n",
       "  </tbody>\n",
       "</table>\n",
       "</div>"
      ],
      "text/plain": [
       "                                               Title  \\\n",
       "0  MIS/ Data Analyst-(SQL,Automation,Excel/PowerB...   \n",
       "1                                 Data Analyst - SAP   \n",
       "2                   Hiring Data Analysts on Contract   \n",
       "3                                Senior Data Analyst   \n",
       "4                                       Data Analyst   \n",
       "5  Data Analyst -Azure Data lake, Azure Data factory   \n",
       "6                            Business / Data Analyst   \n",
       "7                     Data Analyst - O2C - Bangalore   \n",
       "8                                Intern Data Analyst   \n",
       "9                                  NiFi Data Analyst   \n",
       "\n",
       "                                  Company_Name  \\\n",
       "0            Flipkart Internet Private Limited   \n",
       "1                Boston Scientific Corporation   \n",
       "2            Flipkart Internet Private Limited   \n",
       "3                           Schneider Electric   \n",
       "4          Shell India Markets Private Limited   \n",
       "5                             Mindtree Limited   \n",
       "6                       IBM India Pvt. Limited   \n",
       "7                       RANDSTAD INDIA PVT LTD   \n",
       "8                           Outsource Big Data   \n",
       "9  Capgemini Technology Services India Limited   \n",
       "\n",
       "                              Location Experience  \n",
       "0                            Bengaluru    1-4 Yrs  \n",
       "1      Pune, Delhi, Bengaluru, Gurgaon    3-5 Yrs  \n",
       "2                            Bengaluru    2-5 Yrs  \n",
       "3                Bengaluru / Bangalore    2-5 Yrs  \n",
       "4                            Bengaluru    5-8 Yrs  \n",
       "5  Chennai, Pune, Bengaluru, Hyderabad    5-9 Yrs  \n",
       "6                            Bengaluru    2-4 Yrs  \n",
       "7                            Bengaluru    2-4 Yrs  \n",
       "8                            Bengaluru    0-1 Yrs  \n",
       "9                            Bengaluru    4-6 Yrs  "
      ]
     },
     "execution_count": 49,
     "metadata": {},
     "output_type": "execute_result"
    }
   ],
   "source": [
    "jobs=pd.DataFrame({})\n",
    "jobs['Title']=Title\n",
    "jobs['Company_Name']=Company\n",
    "jobs['Location']=Location\n",
    "jobs['Experience']=Experience\n",
    "jobs    "
   ]
  },
  {
   "cell_type": "code",
   "execution_count": 50,
   "metadata": {},
   "outputs": [],
   "source": [
    "driver.close()"
   ]
  },
  {
   "cell_type": "markdown",
   "metadata": {},
   "source": [
    "# Q2. Scrape job-title, job-location, company_name, full job-description of Data Scientist job position in Bangalore."
   ]
  },
  {
   "cell_type": "code",
   "execution_count": 65,
   "metadata": {},
   "outputs": [],
   "source": [
    "#Connecting to webcriver.\n",
    "driver=webdriver.Chrome(executable_path= r'C:\\Users\\Priyanka\\Documents\\chromedriver.exe')"
   ]
  },
  {
   "cell_type": "code",
   "execution_count": 66,
   "metadata": {},
   "outputs": [],
   "source": [
    "#opening the website\n",
    "driver.get('https://www.naukri.com/')"
   ]
  },
  {
   "cell_type": "code",
   "execution_count": 67,
   "metadata": {},
   "outputs": [],
   "source": [
    "#finding element for job search bar and location search bar\n",
    "search=driver.find_element_by_id('qsb-keyword-sugg')\n",
    "search.send_keys('Data Scientist')\n",
    "loc=driver.find_element_by_id('qsb-location-sugg')\n",
    "loc.send_keys('Bangalore')\n",
    "btn=driver.find_element_by_xpath(\"//div[@class='search-btn']/button\")\n",
    "btn.click()"
   ]
  },
  {
   "cell_type": "code",
   "execution_count": 68,
   "metadata": {},
   "outputs": [],
   "source": [
    "#specifying the url of the webpage to be scraped\n",
    "url=\"https://www.naukri.com/data-scientist-jobs-in-bangalore?k=data%20scientist&l=bangalore\"\n",
    "driver.get(url)"
   ]
  },
  {
   "cell_type": "code",
   "execution_count": 69,
   "metadata": {},
   "outputs": [],
   "source": [
    "#Extracting th informtaion from the site\n",
    "location=[]\n",
    "name=[]\n",
    "title=[]\n",
    "\n",
    "t=driver.find_elements_by_xpath(\"//div[@class='info fleft']/a\")\n",
    "for i in t[0:10]:\n",
    "    title.append(i.text)\n",
    "\n",
    "    \n",
    "l=driver.find_elements_by_xpath(\"//li[@class='fleft grey-text br2 placeHolderLi location']/span\")\n",
    "for i in l[0:10]:\n",
    "    location.append(i.text)\n",
    "\n",
    "    \n",
    "n=driver.find_elements_by_xpath(\"//a[@class='subTitle ellipsis fleft']\")\n",
    "for i in n[0:10]:\n",
    "    name.append(i.text)"
   ]
  },
  {
   "cell_type": "code",
   "execution_count": 70,
   "metadata": {},
   "outputs": [
    {
     "data": {
      "text/plain": [
       "['https://www.naukri.com/job-listings-data-scientist-python-matlab-machine-learning-algorithms-wrackle-technologies-pvt-ltd-bengaluru-bangalore-3-to-8-years-080221905947?src=jobsearchDesk&sid=16133711307929286&xp=1&px=1',\n",
       " 'https://www.naukri.com/job-listings-lead-data-scientist-machine-learning-data-mining-wrackle-technologies-pvt-ltd-bengaluru-bangalore-6-to-11-years-080221900886?src=jobsearchDesk&sid=16133711307929286&xp=2&px=1',\n",
       " 'https://www.naukri.com/job-listings-data-scientist-machine-learning-commerce-bu-blue-yonder-india-private-limited-bengaluru-bangalore-4-to-6-years-010221901825?src=jobsearchDesk&sid=16133711307929286&xp=3&px=1',\n",
       " 'https://www.naukri.com/job-listings-data-scientist-atos-syntel-private-limited-chennai-pune-mumbai-bengaluru-bangalore-12-to-18-years-220719001543?src=jobsearchDesk&sid=16133711307929286&xp=4&px=1',\n",
       " 'https://www.naukri.com/job-listings-opening-for-sr-data-scientist-tech-mahindra-tech-mahindra-ltd-pune-bengaluru-bangalore-12-to-20-years-100221001125?src=jobsearchDesk&sid=16133711307929286&xp=5&px=1',\n",
       " 'https://www.naukri.com/job-listings-opening-for-sr-data-scientist-tech-mahindra-tech-mahindra-ltd-pune-bengaluru-bangalore-12-to-20-years-090221006526?src=jobsearchDesk&sid=16133711307929286&xp=6&px=1',\n",
       " 'https://www.naukri.com/job-listings-senior-data-scientist-nlp-python-r-avi-consulting-llp-bengaluru-bangalore-hyderabad-secunderabad-4-to-9-years-081220907155?src=jobsearchDesk&sid=16133711307929286&xp=7&px=1',\n",
       " 'https://www.naukri.com/job-listings-senior-data-scientist-ces-it-ltd-cmmi-level-5-ces-ltd-chennai-pune-delhi-ncr-mumbai-bengaluru-bangalore-hyderabad-secunderabad-kolkata-2-to-7-years-151220006902?src=jobsearchDesk&sid=16133711307929286&xp=8&px=1',\n",
       " 'https://www.naukri.com/job-listings-data-scientist-and-senior-data-scientist-academic-operations-randstad-india-pvt-ltd-bengaluru-bangalore-2-to-5-years-080221007079?src=jobsearchDesk&sid=16133711307929286&xp=9&px=1',\n",
       " 'https://www.naukri.com/job-listings-sr-analyst-data-scientist-mindtree-limited-bengaluru-bangalore-10-to-15-years-040221502130?src=jobsearchDesk&sid=16133711307929286&xp=10&px=1']"
      ]
     },
     "execution_count": 70,
     "metadata": {},
     "output_type": "execute_result"
    }
   ],
   "source": [
    "tags=driver.find_elements_by_xpath(\"//a[@class='title fw500 ellipsis']\")\n",
    "urls=[i.get_attribute('href') for i in tags[0:10]]\n",
    "urls"
   ]
  },
  {
   "cell_type": "code",
   "execution_count": 71,
   "metadata": {},
   "outputs": [],
   "source": [
    "Description=[]\n",
    "for i in urls:\n",
    "    driver.get(i)\n",
    "    d=driver.find_element_by_xpath(\"//div[@class='dang-inner-html' or @class='clearboth description' or @class='f14 lh18 alignJ disc-li']\")\n",
    "    Description.append(d.text)"
   ]
  },
  {
   "cell_type": "code",
   "execution_count": 72,
   "metadata": {},
   "outputs": [
    {
     "data": {
      "text/html": [
       "<div>\n",
       "<style scoped>\n",
       "    .dataframe tbody tr th:only-of-type {\n",
       "        vertical-align: middle;\n",
       "    }\n",
       "\n",
       "    .dataframe tbody tr th {\n",
       "        vertical-align: top;\n",
       "    }\n",
       "\n",
       "    .dataframe thead th {\n",
       "        text-align: right;\n",
       "    }\n",
       "</style>\n",
       "<table border=\"1\" class=\"dataframe\">\n",
       "  <thead>\n",
       "    <tr style=\"text-align: right;\">\n",
       "      <th></th>\n",
       "      <th>Job_Title</th>\n",
       "      <th>Company_Name</th>\n",
       "      <th>Location</th>\n",
       "      <th>Job_Description</th>\n",
       "    </tr>\n",
       "  </thead>\n",
       "  <tbody>\n",
       "    <tr>\n",
       "      <th>0</th>\n",
       "      <td>Data Scientist - Python/ MATLAB/ Machine Learn...</td>\n",
       "      <td>Wrackle Technologies Pvt Ltd</td>\n",
       "      <td>Bengaluru</td>\n",
       "      <td>Data Scientist - Data Mining/ Machine Learning...</td>\n",
       "    </tr>\n",
       "    <tr>\n",
       "      <th>1</th>\n",
       "      <td>Lead Data Scientist - Machine Learning/ Data M...</td>\n",
       "      <td>Wrackle Technologies Pvt Ltd</td>\n",
       "      <td>Bengaluru</td>\n",
       "      <td>Roles and Responsibilities\\nRequirements :\\n\\n...</td>\n",
       "    </tr>\n",
       "    <tr>\n",
       "      <th>2</th>\n",
       "      <td>Data Scientist - Machine Learning (Commerce BU)</td>\n",
       "      <td>BLUE YONDER INDIA PRIVATE LIMITED</td>\n",
       "      <td>Bengaluru</td>\n",
       "      <td>Roles and Responsibilities\\nUnder guidance, or...</td>\n",
       "    </tr>\n",
       "    <tr>\n",
       "      <th>3</th>\n",
       "      <td>Data Scientist</td>\n",
       "      <td>Atos Syntel Private Limited</td>\n",
       "      <td>Chennai, Pune, Mumbai, Bengaluru</td>\n",
       "      <td>Working experience in Artificial Intelligence,...</td>\n",
       "    </tr>\n",
       "    <tr>\n",
       "      <th>4</th>\n",
       "      <td>Opening For Sr. Data Scientist @ Tech Mahindra</td>\n",
       "      <td>Tech Mahindra Ltd.</td>\n",
       "      <td>Pune, Bengaluru</td>\n",
       "      <td>BE or MS or PhD degree in Computer Science, Ar...</td>\n",
       "    </tr>\n",
       "    <tr>\n",
       "      <th>5</th>\n",
       "      <td>Opening For Sr. Data Scientist @ Tech Mahindra</td>\n",
       "      <td>Tech Mahindra Ltd.</td>\n",
       "      <td>Pune, Bengaluru</td>\n",
       "      <td>Role Sr. Data Scientist\\n\\nExp. 12 – 20 years\\...</td>\n",
       "    </tr>\n",
       "    <tr>\n",
       "      <th>6</th>\n",
       "      <td>Senior Data Scientist - NLP/ Python/ R</td>\n",
       "      <td>AVI Consulting LLP</td>\n",
       "      <td>Bengaluru, Hyderabad</td>\n",
       "      <td>Roles and Responsibilities\\nSkill : NLP,Semant...</td>\n",
       "    </tr>\n",
       "    <tr>\n",
       "      <th>7</th>\n",
       "      <td>Senior Data Scientist | CES IT LTD | CMMI Level 5</td>\n",
       "      <td>CES Ltd.</td>\n",
       "      <td>Chennai, Pune, Delhi NCR, Mumbai, Bengaluru, H...</td>\n",
       "      <td>Roles and Responsibilities\\n\\nMust have strong...</td>\n",
       "    </tr>\n",
       "    <tr>\n",
       "      <th>8</th>\n",
       "      <td>Data Scientist and Senior Data Scientist Acade...</td>\n",
       "      <td>RANDSTAD INDIA PVT LTD</td>\n",
       "      <td>Bengaluru</td>\n",
       "      <td>We are hiring Data Scientist and Senior Data S...</td>\n",
       "    </tr>\n",
       "    <tr>\n",
       "      <th>9</th>\n",
       "      <td>Sr. Analyst-Data Scientist</td>\n",
       "      <td>Mindtree Limited</td>\n",
       "      <td>Bengaluru</td>\n",
       "      <td>Role Description:\\nA Sr. Data Scientist who le...</td>\n",
       "    </tr>\n",
       "  </tbody>\n",
       "</table>\n",
       "</div>"
      ],
      "text/plain": [
       "                                           Job_Title  \\\n",
       "0  Data Scientist - Python/ MATLAB/ Machine Learn...   \n",
       "1  Lead Data Scientist - Machine Learning/ Data M...   \n",
       "2    Data Scientist - Machine Learning (Commerce BU)   \n",
       "3                                     Data Scientist   \n",
       "4     Opening For Sr. Data Scientist @ Tech Mahindra   \n",
       "5     Opening For Sr. Data Scientist @ Tech Mahindra   \n",
       "6             Senior Data Scientist - NLP/ Python/ R   \n",
       "7  Senior Data Scientist | CES IT LTD | CMMI Level 5   \n",
       "8  Data Scientist and Senior Data Scientist Acade...   \n",
       "9                         Sr. Analyst-Data Scientist   \n",
       "\n",
       "                        Company_Name  \\\n",
       "0       Wrackle Technologies Pvt Ltd   \n",
       "1       Wrackle Technologies Pvt Ltd   \n",
       "2  BLUE YONDER INDIA PRIVATE LIMITED   \n",
       "3        Atos Syntel Private Limited   \n",
       "4                 Tech Mahindra Ltd.   \n",
       "5                 Tech Mahindra Ltd.   \n",
       "6                 AVI Consulting LLP   \n",
       "7                           CES Ltd.   \n",
       "8             RANDSTAD INDIA PVT LTD   \n",
       "9                   Mindtree Limited   \n",
       "\n",
       "                                            Location  \\\n",
       "0                                          Bengaluru   \n",
       "1                                          Bengaluru   \n",
       "2                                          Bengaluru   \n",
       "3                   Chennai, Pune, Mumbai, Bengaluru   \n",
       "4                                    Pune, Bengaluru   \n",
       "5                                    Pune, Bengaluru   \n",
       "6                               Bengaluru, Hyderabad   \n",
       "7  Chennai, Pune, Delhi NCR, Mumbai, Bengaluru, H...   \n",
       "8                                          Bengaluru   \n",
       "9                                          Bengaluru   \n",
       "\n",
       "                                     Job_Description  \n",
       "0  Data Scientist - Data Mining/ Machine Learning...  \n",
       "1  Roles and Responsibilities\\nRequirements :\\n\\n...  \n",
       "2  Roles and Responsibilities\\nUnder guidance, or...  \n",
       "3  Working experience in Artificial Intelligence,...  \n",
       "4  BE or MS or PhD degree in Computer Science, Ar...  \n",
       "5  Role Sr. Data Scientist\\n\\nExp. 12 – 20 years\\...  \n",
       "6  Roles and Responsibilities\\nSkill : NLP,Semant...  \n",
       "7  Roles and Responsibilities\\n\\nMust have strong...  \n",
       "8  We are hiring Data Scientist and Senior Data S...  \n",
       "9  Role Description:\\nA Sr. Data Scientist who le...  "
      ]
     },
     "execution_count": 72,
     "metadata": {},
     "output_type": "execute_result"
    }
   ],
   "source": [
    "#combining the data collected in a dataframe\n",
    "list=pd.DataFrame({})\n",
    "list['Job_Title']=title\n",
    "list['Company_Name']=name\n",
    "list['Location']=location\n",
    "list['Job_Description']=Description\n",
    "list"
   ]
  },
  {
   "cell_type": "code",
   "execution_count": 73,
   "metadata": {},
   "outputs": [],
   "source": [
    "driver.close()"
   ]
  },
  {
   "cell_type": "markdown",
   "metadata": {},
   "source": [
    "# Q3. Scrape data for 10 data scientist job with filter of salary and location."
   ]
  },
  {
   "cell_type": "code",
   "execution_count": 74,
   "metadata": {},
   "outputs": [],
   "source": [
    "#Connecting to webcriver.\n",
    "driver=webdriver.Chrome(executable_path= r'C:\\Users\\Priyanka\\Documents\\chromedriver.exe')"
   ]
  },
  {
   "cell_type": "code",
   "execution_count": 75,
   "metadata": {},
   "outputs": [],
   "source": [
    "#opening the website\n",
    "driver.get('https://www.naukri.com/')"
   ]
  },
  {
   "cell_type": "code",
   "execution_count": 76,
   "metadata": {},
   "outputs": [],
   "source": [
    "#finding element for job search bar\n",
    "search=driver.find_element_by_id('qsb-keyword-sugg')\n",
    "search.send_keys('Data Scientist')\n",
    "btn=driver.find_element_by_xpath(\"//div[@class='search-btn']/button\")\n",
    "btn.click()"
   ]
  },
  {
   "cell_type": "code",
   "execution_count": 77,
   "metadata": {},
   "outputs": [],
   "source": [
    "#clicking the checkbox required\n",
    "driver.find_element_by_xpath(\"//label[@for='chk-Delhi/NCR-cityType-']/i\").click()"
   ]
  },
  {
   "cell_type": "code",
   "execution_count": 78,
   "metadata": {},
   "outputs": [],
   "source": [
    "#clicking thr checkbox required\n",
    "driver.find_element_by_xpath(\"//label[@for='chk-3-6 Lakhs-ctcFilter-']/i\").click()"
   ]
  },
  {
   "cell_type": "code",
   "execution_count": 79,
   "metadata": {},
   "outputs": [],
   "source": [
    "#specifying the url of the webpage to be scraped\n",
    "driver.get('https://www.naukri.com/data-scientist-jobs?k=data%20scientist&cityType=25.9.31&ctcFilter=3to6')"
   ]
  },
  {
   "cell_type": "code",
   "execution_count": 80,
   "metadata": {},
   "outputs": [],
   "source": [
    "title=[]\n",
    "location=[]\n",
    "company=[]\n",
    "exp=[]\n",
    "\n",
    "ti=driver.find_elements_by_xpath(\"//div[@class='info fleft']/a\")\n",
    "for i in ti[0:10]:\n",
    "    title.append(i.text)\n",
    "\n",
    "    \n",
    "lo=driver.find_elements_by_xpath(\"//li[@class='fleft grey-text br2 placeHolderLi location']/span\")\n",
    "for i in lo[0:10]:\n",
    "    location.append(i.text)\n",
    "    \n",
    "    \n",
    "co=driver.find_elements_by_xpath(\"//a[@class='subTitle ellipsis fleft']\")\n",
    "for i in co[0:10]:\n",
    "    company.append(i.text)\n",
    "    \n",
    "    \n",
    "ex=driver.find_elements_by_xpath(\"//li[@class='fleft grey-text br2 placeHolderLi experience']/span\")\n",
    "for i in ex[0:10]:\n",
    "    exp.append(i.text)"
   ]
  },
  {
   "cell_type": "code",
   "execution_count": 81,
   "metadata": {},
   "outputs": [
    {
     "data": {
      "text/html": [
       "<div>\n",
       "<style scoped>\n",
       "    .dataframe tbody tr th:only-of-type {\n",
       "        vertical-align: middle;\n",
       "    }\n",
       "\n",
       "    .dataframe tbody tr th {\n",
       "        vertical-align: top;\n",
       "    }\n",
       "\n",
       "    .dataframe thead th {\n",
       "        text-align: right;\n",
       "    }\n",
       "</style>\n",
       "<table border=\"1\" class=\"dataframe\">\n",
       "  <thead>\n",
       "    <tr style=\"text-align: right;\">\n",
       "      <th></th>\n",
       "      <th>Job_Title</th>\n",
       "      <th>Location</th>\n",
       "      <th>Comapany_Name</th>\n",
       "      <th>Experience_Required</th>\n",
       "    </tr>\n",
       "  </thead>\n",
       "  <tbody>\n",
       "    <tr>\n",
       "      <th>0</th>\n",
       "      <td>Data Scientist</td>\n",
       "      <td>Delhi</td>\n",
       "      <td>Child Health Imprints</td>\n",
       "      <td>1-4 Yrs</td>\n",
       "    </tr>\n",
       "    <tr>\n",
       "      <th>1</th>\n",
       "      <td>Data Scientist Machine Learning</td>\n",
       "      <td>Gurgaon</td>\n",
       "      <td>Delhivery</td>\n",
       "      <td>1-3 Yrs</td>\n",
       "    </tr>\n",
       "    <tr>\n",
       "      <th>2</th>\n",
       "      <td>Data Scientist</td>\n",
       "      <td>Gurgaon</td>\n",
       "      <td>Shadowfax Technologies Pvt. Ltd.</td>\n",
       "      <td>1-3 Yrs</td>\n",
       "    </tr>\n",
       "    <tr>\n",
       "      <th>3</th>\n",
       "      <td>Data Scientist Operational Research</td>\n",
       "      <td>Gurgaon</td>\n",
       "      <td>Delhivery</td>\n",
       "      <td>1-3 Yrs</td>\n",
       "    </tr>\n",
       "    <tr>\n",
       "      <th>4</th>\n",
       "      <td>Python Developer</td>\n",
       "      <td>Noida</td>\n",
       "      <td>GNEC Media Pvt. Ltd</td>\n",
       "      <td>2-5 Yrs</td>\n",
       "    </tr>\n",
       "    <tr>\n",
       "      <th>5</th>\n",
       "      <td>Data Engineer</td>\n",
       "      <td>Gurgaon</td>\n",
       "      <td>Splash M</td>\n",
       "      <td>2-4 Yrs</td>\n",
       "    </tr>\n",
       "    <tr>\n",
       "      <th>6</th>\n",
       "      <td>Data Analyst</td>\n",
       "      <td>Delhi NCR</td>\n",
       "      <td>Happy Shappy</td>\n",
       "      <td>2-5 Yrs</td>\n",
       "    </tr>\n",
       "    <tr>\n",
       "      <th>7</th>\n",
       "      <td>Python Developer - AWS/Flask</td>\n",
       "      <td>Gurgaon</td>\n",
       "      <td>Brain Box Network</td>\n",
       "      <td>2-4 Yrs</td>\n",
       "    </tr>\n",
       "    <tr>\n",
       "      <th>8</th>\n",
       "      <td>Senior Data Analyst</td>\n",
       "      <td>Gurgaon</td>\n",
       "      <td>Weatherbug</td>\n",
       "      <td>2-4 Yrs</td>\n",
       "    </tr>\n",
       "    <tr>\n",
       "      <th>9</th>\n",
       "      <td>Senior Data Analyst</td>\n",
       "      <td>Faridabad, Hyderabad</td>\n",
       "      <td>Eli Research India Private limited</td>\n",
       "      <td>3-5 Yrs</td>\n",
       "    </tr>\n",
       "  </tbody>\n",
       "</table>\n",
       "</div>"
      ],
      "text/plain": [
       "                             Job_Title              Location  \\\n",
       "0                       Data Scientist                 Delhi   \n",
       "1      Data Scientist Machine Learning               Gurgaon   \n",
       "2                       Data Scientist               Gurgaon   \n",
       "3  Data Scientist Operational Research               Gurgaon   \n",
       "4                     Python Developer                 Noida   \n",
       "5                        Data Engineer               Gurgaon   \n",
       "6                         Data Analyst             Delhi NCR   \n",
       "7         Python Developer - AWS/Flask               Gurgaon   \n",
       "8                  Senior Data Analyst               Gurgaon   \n",
       "9                  Senior Data Analyst  Faridabad, Hyderabad   \n",
       "\n",
       "                        Comapany_Name Experience_Required  \n",
       "0               Child Health Imprints             1-4 Yrs  \n",
       "1                           Delhivery             1-3 Yrs  \n",
       "2    Shadowfax Technologies Pvt. Ltd.             1-3 Yrs  \n",
       "3                           Delhivery             1-3 Yrs  \n",
       "4                 GNEC Media Pvt. Ltd             2-5 Yrs  \n",
       "5                            Splash M             2-4 Yrs  \n",
       "6                        Happy Shappy             2-5 Yrs  \n",
       "7                   Brain Box Network             2-4 Yrs  \n",
       "8                          Weatherbug             2-4 Yrs  \n",
       "9  Eli Research India Private limited             3-5 Yrs  "
      ]
     },
     "execution_count": 81,
     "metadata": {},
     "output_type": "execute_result"
    }
   ],
   "source": [
    "job=pd.DataFrame({})\n",
    "job['Job_Title']=title\n",
    "job['Location']=location\n",
    "job['Comapany_Name']=company\n",
    "job['Experience_Required']=exp\n",
    "job"
   ]
  },
  {
   "cell_type": "code",
   "execution_count": 82,
   "metadata": {},
   "outputs": [],
   "source": [
    "driver.close()"
   ]
  },
  {
   "cell_type": "markdown",
   "metadata": {},
   "source": [
    "# Q4. Scrape data for 10 job results for Data Scientist position in noida."
   ]
  },
  {
   "cell_type": "code",
   "execution_count": 83,
   "metadata": {},
   "outputs": [],
   "source": [
    "#Connecting to webcriver.\n",
    "driver=webdriver.Chrome(executable_path= r'C:\\Users\\Priyanka\\Documents\\chromedriver.exe')"
   ]
  },
  {
   "cell_type": "code",
   "execution_count": 84,
   "metadata": {},
   "outputs": [],
   "source": [
    "#opening the website\n",
    "driver.get('https://www.glassdoor.co.in/index.htm')"
   ]
  },
  {
   "cell_type": "code",
   "execution_count": 85,
   "metadata": {},
   "outputs": [],
   "source": [
    "#finding element for job search bar\n",
    "driver.find_element_by_id('sc.keyword').send_keys('Data Scientist')"
   ]
  },
  {
   "cell_type": "code",
   "execution_count": 86,
   "metadata": {},
   "outputs": [],
   "source": [
    "#finding element for location search bar\n",
    "driver.find_element_by_id('sc.location').send_keys(Keys.BACKSPACE*9,'Noida')"
   ]
  },
  {
   "cell_type": "code",
   "execution_count": 87,
   "metadata": {},
   "outputs": [],
   "source": [
    "#findng element for the search button\n",
    "driver.find_element_by_xpath(\"//button[@class='gd-ui-button ml-std col-auto SearchStyles__newSearchButton css-iixdfr']/span\").click()"
   ]
  },
  {
   "cell_type": "code",
   "execution_count": 88,
   "metadata": {},
   "outputs": [],
   "source": [
    "#specifying the url of the webpage\n",
    "driver.get('https://www.glassdoor.co.in/Job/noida-data-scientist-jobs-SRCH_IL.0,5_IC4477468_KO6,20.htm')"
   ]
  },
  {
   "cell_type": "code",
   "execution_count": 89,
   "metadata": {},
   "outputs": [],
   "source": [
    "#extracting information\n",
    "desig=[]\n",
    "comp=[]\n",
    "days=[]\n",
    "rat=[]\n",
    "\n",
    "\n",
    "d=driver.find_elements_by_xpath(\"//a[@class='jobLink css-1rd3saf eigr9kq2']/span\")\n",
    "for i in d[0:10]:\n",
    "    desig.append(i.text)\n",
    "\n",
    "    \n",
    "c=driver.find_elements_by_xpath(\"//a[@class=' css-l2wjgv e1n63ojh0 jobLink']/span\")\n",
    "for i in c[0:10]:\n",
    "    comp.append(i.text)\n",
    "    \n",
    "d=driver.find_elements_by_xpath(\"//div[@class='d-flex justify-content-between css-1qtdns2']/div[2]\")\n",
    "for i in d[0:10]:\n",
    "    days.append(i.text)\n",
    "    \n",
    "r=driver.find_elements_by_xpath(\"//span[@class='css-19pjha7 e1cjmv6j1']\")\n",
    "for i in r[0:10]:\n",
    "    rat.append(i.text)"
   ]
  },
  {
   "cell_type": "code",
   "execution_count": 90,
   "metadata": {},
   "outputs": [
    {
     "data": {
      "text/html": [
       "<div>\n",
       "<style scoped>\n",
       "    .dataframe tbody tr th:only-of-type {\n",
       "        vertical-align: middle;\n",
       "    }\n",
       "\n",
       "    .dataframe tbody tr th {\n",
       "        vertical-align: top;\n",
       "    }\n",
       "\n",
       "    .dataframe thead th {\n",
       "        text-align: right;\n",
       "    }\n",
       "</style>\n",
       "<table border=\"1\" class=\"dataframe\">\n",
       "  <thead>\n",
       "    <tr style=\"text-align: right;\">\n",
       "      <th></th>\n",
       "      <th>Designation</th>\n",
       "      <th>Company_Name</th>\n",
       "      <th>No. of days posted</th>\n",
       "      <th>Rating</th>\n",
       "    </tr>\n",
       "  </thead>\n",
       "  <tbody>\n",
       "    <tr>\n",
       "      <th>0</th>\n",
       "      <td>Data Scientist</td>\n",
       "      <td>Biz2Credit Inc</td>\n",
       "      <td>30d+</td>\n",
       "      <td>3.7</td>\n",
       "    </tr>\n",
       "    <tr>\n",
       "      <th>1</th>\n",
       "      <td>Data Scientist</td>\n",
       "      <td>Adobe</td>\n",
       "      <td>6d</td>\n",
       "      <td>4.4</td>\n",
       "    </tr>\n",
       "    <tr>\n",
       "      <th>2</th>\n",
       "      <td>Data Scientist</td>\n",
       "      <td>Emerging India Group</td>\n",
       "      <td>30d+</td>\n",
       "      <td>4.0</td>\n",
       "    </tr>\n",
       "    <tr>\n",
       "      <th>3</th>\n",
       "      <td>Data Scientist</td>\n",
       "      <td>WishFin</td>\n",
       "      <td>15d</td>\n",
       "      <td>5.0</td>\n",
       "    </tr>\n",
       "    <tr>\n",
       "      <th>4</th>\n",
       "      <td>Data Scientist - Flexible Office Homeoffice Re...</td>\n",
       "      <td>Stirah</td>\n",
       "      <td>24h</td>\n",
       "      <td>5.0</td>\n",
       "    </tr>\n",
       "    <tr>\n",
       "      <th>5</th>\n",
       "      <td></td>\n",
       "      <td>Singh RanjayKumar(Proprietor Of Zee India Co)</td>\n",
       "      <td>1d</td>\n",
       "      <td>4.3</td>\n",
       "    </tr>\n",
       "    <tr>\n",
       "      <th>6</th>\n",
       "      <td>Machine Learning Engineer/ Data Scientist</td>\n",
       "      <td>Dürr Somac GmbH</td>\n",
       "      <td>30d+</td>\n",
       "      <td>3.0</td>\n",
       "    </tr>\n",
       "    <tr>\n",
       "      <th>7</th>\n",
       "      <td>Data Analytics Internship</td>\n",
       "      <td>Yellow Class</td>\n",
       "      <td>3d</td>\n",
       "      <td>4.4</td>\n",
       "    </tr>\n",
       "    <tr>\n",
       "      <th>8</th>\n",
       "      <td>Data Scientist</td>\n",
       "      <td>Techlive</td>\n",
       "      <td>30d+</td>\n",
       "      <td>5.0</td>\n",
       "    </tr>\n",
       "    <tr>\n",
       "      <th>9</th>\n",
       "      <td>Principal Data Scientist</td>\n",
       "      <td>Kronos Incorporated</td>\n",
       "      <td>4d</td>\n",
       "      <td>4.2</td>\n",
       "    </tr>\n",
       "  </tbody>\n",
       "</table>\n",
       "</div>"
      ],
      "text/plain": [
       "                                         Designation  \\\n",
       "0                                     Data Scientist   \n",
       "1                                     Data Scientist   \n",
       "2                                     Data Scientist   \n",
       "3                                     Data Scientist   \n",
       "4  Data Scientist - Flexible Office Homeoffice Re...   \n",
       "5                                                      \n",
       "6          Machine Learning Engineer/ Data Scientist   \n",
       "7                          Data Analytics Internship   \n",
       "8                                     Data Scientist   \n",
       "9                           Principal Data Scientist   \n",
       "\n",
       "                                    Company_Name No. of days posted Rating  \n",
       "0                                 Biz2Credit Inc               30d+    3.7  \n",
       "1                                          Adobe                 6d    4.4  \n",
       "2                           Emerging India Group               30d+    4.0  \n",
       "3                                        WishFin                15d    5.0  \n",
       "4                                         Stirah                24h    5.0  \n",
       "5  Singh RanjayKumar(Proprietor Of Zee India Co)                 1d    4.3  \n",
       "6                                Dürr Somac GmbH               30d+    3.0  \n",
       "7                                   Yellow Class                 3d    4.4  \n",
       "8                                       Techlive               30d+    5.0  \n",
       "9                            Kronos Incorporated                 4d    4.2  "
      ]
     },
     "execution_count": 90,
     "metadata": {},
     "output_type": "execute_result"
    }
   ],
   "source": [
    "noida=pd.DataFrame({})\n",
    "noida['Designation']=desig\n",
    "noida['Company_Name']=comp\n",
    "noida['No. of days posted']=days\n",
    "noida['Rating']=rat\n",
    "noida"
   ]
  },
  {
   "cell_type": "code",
   "execution_count": 91,
   "metadata": {},
   "outputs": [],
   "source": [
    "driver.close()"
   ]
  },
  {
   "cell_type": "markdown",
   "metadata": {},
   "source": [
    "# Q5. Scrape salary data for 10 Data Scientist job in Noida."
   ]
  },
  {
   "cell_type": "code",
   "execution_count": 221,
   "metadata": {},
   "outputs": [],
   "source": [
    "#Connecting to webcriver.\n",
    "driver=webdriver.Chrome(executable_path= r'C:\\Users\\Priyanka\\Documents\\chromedriver.exe')"
   ]
  },
  {
   "cell_type": "code",
   "execution_count": 222,
   "metadata": {},
   "outputs": [],
   "source": [
    "#opening the website\n",
    "driver.get('https://www.glassdoor.co.in/Salaries/index.htm')"
   ]
  },
  {
   "cell_type": "code",
   "execution_count": 223,
   "metadata": {},
   "outputs": [],
   "source": [
    "#searching element for job search bar, locatrion search bar and search button.\n",
    "driver.find_element_by_id('KeywordSearch').send_keys('Data Scientist')\n",
    "driver.find_element_by_id('LocationSearch').send_keys(Keys.BACKSPACE*9,'Noida')\n",
    "driver.find_element_by_id('HeroSearchButton').click()"
   ]
  },
  {
   "cell_type": "code",
   "execution_count": 224,
   "metadata": {},
   "outputs": [],
   "source": [
    "#extracting information\n",
    "company=[]\n",
    "num=[]\n",
    "avg=[]\n",
    "min=[]\n",
    "max=[]\n",
    "\n",
    "com=driver.find_elements_by_xpath(\"//div[@data-test='job-info']/p[2]\")\n",
    "for i in com[0:10]:\n",
    "    company.append(i.text)\n",
    "\n",
    "    \n",
    "n=driver.find_elements_by_xpath(\"//p[@class='css-1uyte9r css-1kuy7z7 m-0 ']\")\n",
    "for i in n[0:10]:\n",
    "    num.append(i.text)\n",
    "    \n",
    "a=driver.find_elements_by_xpath(\"//div[@class='col-2 d-none d-md-flex flex-row justify-content-end']/strong\")\n",
    "for i in a[0:10]:\n",
    "    avg.append(i.text)\n",
    "    \n",
    "mi=driver.find_elements_by_xpath(\"//div[@class='common__RangeBarStyle__values common__flex__justifySpaceBetween common__flex__container ']/span[1]\")\n",
    "for i in mi[0:10]:\n",
    "    min.append(i.text)\n",
    "    \n",
    "ma=driver.find_elements_by_xpath(\"//div[@class='common__RangeBarStyle__values common__flex__justifySpaceBetween common__flex__container ']/span[2]\")\n",
    "for i in ma[0:10]:\n",
    "    max.append(i.text)"
   ]
  },
  {
   "cell_type": "code",
   "execution_count": 225,
   "metadata": {},
   "outputs": [
    {
     "data": {
      "text/html": [
       "<div>\n",
       "<style scoped>\n",
       "    .dataframe tbody tr th:only-of-type {\n",
       "        vertical-align: middle;\n",
       "    }\n",
       "\n",
       "    .dataframe tbody tr th {\n",
       "        vertical-align: top;\n",
       "    }\n",
       "\n",
       "    .dataframe thead th {\n",
       "        text-align: right;\n",
       "    }\n",
       "</style>\n",
       "<table border=\"1\" class=\"dataframe\">\n",
       "  <thead>\n",
       "    <tr style=\"text-align: right;\">\n",
       "      <th></th>\n",
       "      <th>Company_Name</th>\n",
       "      <th>Number_of_Salary</th>\n",
       "      <th>Average_Salary</th>\n",
       "      <th>Minimu_Salary</th>\n",
       "      <th>Maximum_Salary</th>\n",
       "    </tr>\n",
       "  </thead>\n",
       "  <tbody>\n",
       "    <tr>\n",
       "      <th>0</th>\n",
       "      <td>Delhivery</td>\n",
       "      <td>13 salaries</td>\n",
       "      <td>₹ 12,64,182</td>\n",
       "      <td>₹450K</td>\n",
       "      <td>₹11,630K</td>\n",
       "    </tr>\n",
       "    <tr>\n",
       "      <th>1</th>\n",
       "      <td>Ericsson-Worldwide</td>\n",
       "      <td>12 salaries</td>\n",
       "      <td>₹ 7,30,968</td>\n",
       "      <td>₹350K</td>\n",
       "      <td>₹1,614K</td>\n",
       "    </tr>\n",
       "    <tr>\n",
       "      <th>2</th>\n",
       "      <td>Tata Consultancy Services</td>\n",
       "      <td>11 salaries</td>\n",
       "      <td>₹ 6,00,000</td>\n",
       "      <td>₹336K</td>\n",
       "      <td>₹1,010K</td>\n",
       "    </tr>\n",
       "    <tr>\n",
       "      <th>3</th>\n",
       "      <td>Accenture</td>\n",
       "      <td>10 salaries</td>\n",
       "      <td>₹ 9,94,055</td>\n",
       "      <td>₹577K</td>\n",
       "      <td>₹2,215K</td>\n",
       "    </tr>\n",
       "    <tr>\n",
       "      <th>4</th>\n",
       "      <td>IBM</td>\n",
       "      <td>10 salaries</td>\n",
       "      <td>₹ 7,39,040</td>\n",
       "      <td>₹587K</td>\n",
       "      <td>₹2,732K</td>\n",
       "    </tr>\n",
       "    <tr>\n",
       "      <th>5</th>\n",
       "      <td>UnitedHealth Group</td>\n",
       "      <td>9 salaries</td>\n",
       "      <td>₹ 13,37,114</td>\n",
       "      <td>₹717K</td>\n",
       "      <td>₹1,575K</td>\n",
       "    </tr>\n",
       "    <tr>\n",
       "      <th>6</th>\n",
       "      <td>Valiance Solutions</td>\n",
       "      <td>8 salaries</td>\n",
       "      <td>₹ 7,80,374</td>\n",
       "      <td>₹502K</td>\n",
       "      <td>₹1,152K</td>\n",
       "    </tr>\n",
       "    <tr>\n",
       "      <th>7</th>\n",
       "      <td>Innovaccer</td>\n",
       "      <td>7 salaries</td>\n",
       "      <td>₹ 11,98,792</td>\n",
       "      <td>₹621K</td>\n",
       "      <td>₹1,696K</td>\n",
       "    </tr>\n",
       "    <tr>\n",
       "      <th>8</th>\n",
       "      <td>Cognizant Technology Solutions</td>\n",
       "      <td>6 salaries</td>\n",
       "      <td>₹ 10,08,143</td>\n",
       "      <td>₹793K</td>\n",
       "      <td>₹1,264K</td>\n",
       "    </tr>\n",
       "    <tr>\n",
       "      <th>9</th>\n",
       "      <td>EXL Service</td>\n",
       "      <td>6 salaries</td>\n",
       "      <td>₹ 11,34,989</td>\n",
       "      <td>₹576K</td>\n",
       "      <td>₹1,500K</td>\n",
       "    </tr>\n",
       "  </tbody>\n",
       "</table>\n",
       "</div>"
      ],
      "text/plain": [
       "                     Company_Name Number_of_Salary Average_Salary  \\\n",
       "0                       Delhivery      13 salaries    ₹ 12,64,182   \n",
       "1              Ericsson-Worldwide      12 salaries     ₹ 7,30,968   \n",
       "2       Tata Consultancy Services      11 salaries     ₹ 6,00,000   \n",
       "3                       Accenture      10 salaries     ₹ 9,94,055   \n",
       "4                             IBM      10 salaries     ₹ 7,39,040   \n",
       "5              UnitedHealth Group       9 salaries    ₹ 13,37,114   \n",
       "6              Valiance Solutions       8 salaries     ₹ 7,80,374   \n",
       "7                      Innovaccer       7 salaries    ₹ 11,98,792   \n",
       "8  Cognizant Technology Solutions       6 salaries    ₹ 10,08,143   \n",
       "9                     EXL Service       6 salaries    ₹ 11,34,989   \n",
       "\n",
       "  Minimu_Salary Maximum_Salary  \n",
       "0         ₹450K       ₹11,630K  \n",
       "1         ₹350K        ₹1,614K  \n",
       "2         ₹336K        ₹1,010K  \n",
       "3         ₹577K        ₹2,215K  \n",
       "4         ₹587K        ₹2,732K  \n",
       "5         ₹717K        ₹1,575K  \n",
       "6         ₹502K        ₹1,152K  \n",
       "7         ₹621K        ₹1,696K  \n",
       "8         ₹793K        ₹1,264K  \n",
       "9         ₹576K        ₹1,500K  "
      ]
     },
     "execution_count": 225,
     "metadata": {},
     "output_type": "execute_result"
    }
   ],
   "source": [
    "#creating a dataframe to store extracted information\n",
    "salary=pd.DataFrame({})\n",
    "salary['Company_Name']=company\n",
    "salary['Number_of_Salary']=num\n",
    "salary['Average_Salary']=avg\n",
    "salary['Minimu_Salary']=min\n",
    "salary['Maximum_Salary']=max\n",
    "salary"
   ]
  },
  {
   "cell_type": "code",
   "execution_count": 226,
   "metadata": {},
   "outputs": [],
   "source": [
    "driver.close()"
   ]
  },
  {
   "cell_type": "markdown",
   "metadata": {},
   "source": [
    "# Q6. 100 sunglases detail from flipkart."
   ]
  },
  {
   "cell_type": "code",
   "execution_count": 98,
   "metadata": {},
   "outputs": [],
   "source": [
    "#connecting to webdriver\n",
    "driver=webdriver.Chrome(executable_path= r'C:\\Users\\Priyanka\\Documents\\chromedriver.exe')"
   ]
  },
  {
   "cell_type": "code",
   "execution_count": 99,
   "metadata": {},
   "outputs": [],
   "source": [
    "driver.get(' https://www.flipkart.com/')"
   ]
  },
  {
   "cell_type": "code",
   "execution_count": 100,
   "metadata": {},
   "outputs": [],
   "source": [
    "#searching element for search bar\n",
    "search=driver.find_element_by_xpath(\"//div[@class='_3OO5Xc']/input\").send_keys('Sunglasses')\n",
    "driver.find_element_by_xpath(\"//button[@class='L0Z3Pu']\").click()"
   ]
  },
  {
   "cell_type": "code",
   "execution_count": 101,
   "metadata": {},
   "outputs": [],
   "source": [
    "#specifying thr url pf the webpage\n",
    "driver.get('https://www.flipkart.com/search?q=Sunglasses&otracker=search&otracker1=search&marketplace=FLIPKART&as-show=on&as=off')"
   ]
  },
  {
   "cell_type": "code",
   "execution_count": 103,
   "metadata": {
    "scrolled": true
   },
   "outputs": [],
   "source": [
    "#scraping the data\n",
    "brand=[]\n",
    "des=[]\n",
    "price=[]\n",
    "dis=[]\n",
    "\n",
    "b=driver.find_elements_by_xpath(\"//div[@class='_2B099V']/div[1]\")\n",
    "for i in b:\n",
    "    brand.append(i.text)\n",
    "\n",
    "    \n",
    "d=driver.find_elements_by_xpath(\"//div[@class='_2B099V']/a[1]\")\n",
    "for i in d:\n",
    "    des.append(i.text)\n",
    "    \n",
    "    \n",
    "p=driver.find_elements_by_xpath(\"//a[@class='_3bPFwb']/div[1]/div[1]\")\n",
    "for i in p:\n",
    "    price.append(i.text)\n",
    "    \n",
    "    \n",
    "di=driver.find_elements_by_xpath(\"//a[@class='_3bPFwb']/div[1]/div[3]\")\n",
    "for i in di:\n",
    "    dis.append(i.text)"
   ]
  },
  {
   "cell_type": "code",
   "execution_count": 104,
   "metadata": {},
   "outputs": [],
   "source": [
    "driver.find_element_by_xpath(\"//a[@class='_1LKTO3']/span\").click()"
   ]
  },
  {
   "cell_type": "code",
   "execution_count": 105,
   "metadata": {},
   "outputs": [],
   "source": [
    "driver.get('https://www.flipkart.com/search?q=Sunglasses&otracker=search&otracker1=search&marketplace=FLIPKART&as-show=on&as=off&page=2')"
   ]
  },
  {
   "cell_type": "code",
   "execution_count": 106,
   "metadata": {
    "scrolled": true
   },
   "outputs": [],
   "source": [
    "b1=driver.find_elements_by_xpath(\"//div[@class='_2B099V']/div[1]\")\n",
    "for i in b1:\n",
    "    brand.append(i.text)\n",
    "\n",
    "    \n",
    "d1=driver.find_elements_by_xpath(\"//div[@class='_2B099V']/a[1]\")\n",
    "for i in d1:\n",
    "    des.append(i.text)\n",
    "    \n",
    "    \n",
    "p1=driver.find_elements_by_xpath(\"//a[@class='_3bPFwb']/div[1]/div[1]\")\n",
    "for i in p1:\n",
    "    price.append(i.text)\n",
    "    \n",
    "    \n",
    "di1=driver.find_elements_by_xpath(\"//a[@class='_3bPFwb']/div[1]/div[3]\")\n",
    "for i in di1:\n",
    "    dis.append(i.text)"
   ]
  },
  {
   "cell_type": "code",
   "execution_count": 107,
   "metadata": {},
   "outputs": [],
   "source": [
    "driver.find_element_by_xpath(\"//a[@class='_1LKTO3'][2]/span\").click()"
   ]
  },
  {
   "cell_type": "code",
   "execution_count": 108,
   "metadata": {},
   "outputs": [],
   "source": [
    "driver.get('https://www.flipkart.com/search?q=Sunglasses&otracker=search&otracker1=search&marketplace=FLIPKART&as-show=on&as=off&page=3')"
   ]
  },
  {
   "cell_type": "code",
   "execution_count": 109,
   "metadata": {},
   "outputs": [],
   "source": [
    "b2=driver.find_elements_by_xpath(\"//div[@class='_2B099V']/div[1]\")\n",
    "for i in b2[0:20]:\n",
    "    brand.append(i.text)\n",
    "\n",
    "\n",
    "d2=driver.find_elements_by_xpath(\"//div[@class='_2B099V']/a[1]\")\n",
    "for i in d2[0:20]:\n",
    "    des.append(i.text)\n",
    "    \n",
    "    \n",
    "di2=driver.find_elements_by_xpath(\"//a[@class='_3bPFwb']/div[1]/div[3]\")\n",
    "for i in di2[0:20]:\n",
    "    dis.append(i.text)\n",
    "    \n",
    "    \n",
    "p2=driver.find_elements_by_xpath(\"//a[@class='_3bPFwb']/div[1]/div[1]\")\n",
    "for i in p2[0:20]:\n",
    "    price.append(i.text)"
   ]
  },
  {
   "cell_type": "code",
   "execution_count": 110,
   "metadata": {},
   "outputs": [
    {
     "data": {
      "text/html": [
       "<div>\n",
       "<style scoped>\n",
       "    .dataframe tbody tr th:only-of-type {\n",
       "        vertical-align: middle;\n",
       "    }\n",
       "\n",
       "    .dataframe tbody tr th {\n",
       "        vertical-align: top;\n",
       "    }\n",
       "\n",
       "    .dataframe thead th {\n",
       "        text-align: right;\n",
       "    }\n",
       "</style>\n",
       "<table border=\"1\" class=\"dataframe\">\n",
       "  <thead>\n",
       "    <tr style=\"text-align: right;\">\n",
       "      <th></th>\n",
       "      <th>Brand</th>\n",
       "      <th>Product_Description</th>\n",
       "      <th>Price</th>\n",
       "      <th>Discount</th>\n",
       "    </tr>\n",
       "  </thead>\n",
       "  <tbody>\n",
       "    <tr>\n",
       "      <th>0</th>\n",
       "      <td>kingsunglasses</td>\n",
       "      <td>Mirrored, UV Protection Wayfarer, Wayfarer, Wa...</td>\n",
       "      <td>₹284</td>\n",
       "      <td>81% off</td>\n",
       "    </tr>\n",
       "    <tr>\n",
       "      <th>1</th>\n",
       "      <td>NuVew</td>\n",
       "      <td>UV Protection Aviator Sunglasses (Free Size)</td>\n",
       "      <td>₹417</td>\n",
       "      <td>66% off</td>\n",
       "    </tr>\n",
       "    <tr>\n",
       "      <th>2</th>\n",
       "      <td>Fastrack</td>\n",
       "      <td>Gradient, UV Protection Wayfarer Sunglasses (F...</td>\n",
       "      <td>₹659</td>\n",
       "      <td>17% off</td>\n",
       "    </tr>\n",
       "    <tr>\n",
       "      <th>3</th>\n",
       "      <td>Fastrack</td>\n",
       "      <td>UV Protection Aviator Sunglasses (Free Size)</td>\n",
       "      <td>₹639</td>\n",
       "      <td>28% off</td>\n",
       "    </tr>\n",
       "    <tr>\n",
       "      <th>4</th>\n",
       "      <td>ROZZETTA CRAFT</td>\n",
       "      <td>UV Protection Retro Square Sunglasses (Free Size)</td>\n",
       "      <td>₹499</td>\n",
       "      <td>77% off</td>\n",
       "    </tr>\n",
       "    <tr>\n",
       "      <th>...</th>\n",
       "      <td>...</td>\n",
       "      <td>...</td>\n",
       "      <td>...</td>\n",
       "      <td>...</td>\n",
       "    </tr>\n",
       "    <tr>\n",
       "      <th>95</th>\n",
       "      <td>Royal Son</td>\n",
       "      <td>Mirrored Aviator Sunglasses (55)</td>\n",
       "      <td>₹399</td>\n",
       "      <td>73% off</td>\n",
       "    </tr>\n",
       "    <tr>\n",
       "      <th>96</th>\n",
       "      <td>Poloport</td>\n",
       "      <td>UV Protection Wayfarer Sunglasses (Free Size)</td>\n",
       "      <td>₹329</td>\n",
       "      <td>86% off</td>\n",
       "    </tr>\n",
       "    <tr>\n",
       "      <th>97</th>\n",
       "      <td>NuVew</td>\n",
       "      <td>UV Protection Aviator Sunglasses (57)</td>\n",
       "      <td>₹195</td>\n",
       "      <td>75% off</td>\n",
       "    </tr>\n",
       "    <tr>\n",
       "      <th>98</th>\n",
       "      <td>ROZZETTA CRAFT</td>\n",
       "      <td>Polarized, UV Protection Aviator Sunglasses (F...</td>\n",
       "      <td>₹449</td>\n",
       "      <td>77% off</td>\n",
       "    </tr>\n",
       "    <tr>\n",
       "      <th>99</th>\n",
       "      <td>NuVew</td>\n",
       "      <td>UV Protection, Mirrored, Riding Glasses Round ...</td>\n",
       "      <td>₹448</td>\n",
       "      <td>73% off</td>\n",
       "    </tr>\n",
       "  </tbody>\n",
       "</table>\n",
       "<p>100 rows × 4 columns</p>\n",
       "</div>"
      ],
      "text/plain": [
       "             Brand                                Product_Description Price  \\\n",
       "0   kingsunglasses  Mirrored, UV Protection Wayfarer, Wayfarer, Wa...  ₹284   \n",
       "1            NuVew       UV Protection Aviator Sunglasses (Free Size)  ₹417   \n",
       "2         Fastrack  Gradient, UV Protection Wayfarer Sunglasses (F...  ₹659   \n",
       "3         Fastrack       UV Protection Aviator Sunglasses (Free Size)  ₹639   \n",
       "4   ROZZETTA CRAFT  UV Protection Retro Square Sunglasses (Free Size)  ₹499   \n",
       "..             ...                                                ...   ...   \n",
       "95       Royal Son                   Mirrored Aviator Sunglasses (55)  ₹399   \n",
       "96        Poloport      UV Protection Wayfarer Sunglasses (Free Size)  ₹329   \n",
       "97           NuVew              UV Protection Aviator Sunglasses (57)  ₹195   \n",
       "98  ROZZETTA CRAFT  Polarized, UV Protection Aviator Sunglasses (F...  ₹449   \n",
       "99           NuVew  UV Protection, Mirrored, Riding Glasses Round ...  ₹448   \n",
       "\n",
       "   Discount  \n",
       "0   81% off  \n",
       "1   66% off  \n",
       "2   17% off  \n",
       "3   28% off  \n",
       "4   77% off  \n",
       "..      ...  \n",
       "95  73% off  \n",
       "96  86% off  \n",
       "97  75% off  \n",
       "98  77% off  \n",
       "99  73% off  \n",
       "\n",
       "[100 rows x 4 columns]"
      ]
     },
     "execution_count": 110,
     "metadata": {},
     "output_type": "execute_result"
    }
   ],
   "source": [
    "sun=pd.DataFrame({})\n",
    "sun['Brand']=brand\n",
    "sun['Product_Description']=des\n",
    "sun['Price']=price\n",
    "sun['Discount']=dis\n",
    "sun"
   ]
  },
  {
   "cell_type": "code",
   "execution_count": 111,
   "metadata": {},
   "outputs": [],
   "source": [
    "driver.close()"
   ]
  },
  {
   "cell_type": "markdown",
   "metadata": {},
   "source": [
    "# Q7. 100 reviews data from flipkart for iphone 11."
   ]
  },
  {
   "cell_type": "code",
   "execution_count": 112,
   "metadata": {},
   "outputs": [],
   "source": [
    "#connecting to the webdriver\n",
    "driver=webdriver.Chrome(executable_path= r'C:\\Users\\Priyanka\\Documents\\chromedriver.exe')"
   ]
  },
  {
   "cell_type": "code",
   "execution_count": 113,
   "metadata": {},
   "outputs": [],
   "source": [
    "#opening the site\n",
    "driver.get(' https://www.flipkart.com/')"
   ]
  },
  {
   "cell_type": "code",
   "execution_count": 114,
   "metadata": {},
   "outputs": [],
   "source": [
    "#searching the elements for search  button\n",
    "driver.find_element_by_xpath(\"//div[@class='_3OO5Xc']/input\").send_keys('iphone 11 64 gb black')\n",
    "driver.find_element_by_xpath(\"//button[@class='L0Z3Pu']\").click()"
   ]
  },
  {
   "cell_type": "code",
   "execution_count": 115,
   "metadata": {},
   "outputs": [],
   "source": [
    "#specifying the url of the webpage\n",
    "driver.get('https://www.flipkart.com/search?q=iphone%2011%2064%20gb%20black&otracker=search&otracker1=search&marketplace=FLIPKART&as-show=off&as=off')"
   ]
  },
  {
   "cell_type": "code",
   "execution_count": 116,
   "metadata": {},
   "outputs": [
    {
     "data": {
      "text/plain": [
       "'https://www.flipkart.com/apple-iphone-11-black-64-gb-includes-earpods-power-adapter/p/itm0f37c2240b217?pid=MOBFKCTSVZAXUHGR&lid=LSTMOBFKCTSVZAXUHGR3QP11A&marketplace=FLIPKART&srno=s_1_2&otracker=search&otracker1=search&fm=organic&iid=2404a59b-e0f1-4299-ab07-76904307cdf3.MOBFKCTSVZAXUHGR.SEARCH&ssid=qq2g3ems340000001613372985259&qH=9d1cac2fd8606408'"
      ]
     },
     "execution_count": 116,
     "metadata": {},
     "output_type": "execute_result"
    }
   ],
   "source": [
    "url=driver.find_elements_by_xpath(\"//a[@class='_1fQZEK']\")\n",
    "main=url[1].get_attribute('href')\n",
    "main"
   ]
  },
  {
   "cell_type": "code",
   "execution_count": 117,
   "metadata": {},
   "outputs": [],
   "source": [
    "driver.get(main)"
   ]
  },
  {
   "cell_type": "code",
   "execution_count": 118,
   "metadata": {},
   "outputs": [],
   "source": [
    "driver.find_element_by_xpath(\"//div[@class='_3UAT2v _16PBlm']/span\").click()"
   ]
  },
  {
   "cell_type": "code",
   "execution_count": 119,
   "metadata": {},
   "outputs": [],
   "source": [
    "driver.get('https://www.flipkart.com/apple-iphone-11-black-64-gb-includes-earpods-power-adapter/product-reviews/itm0f37c2240b217?pid=MOBFKCTSVZAXUHGR&lid=LSTMOBFKCTSVZAXUHGRRWP0SM&marketplace=FLIPKART')"
   ]
  },
  {
   "cell_type": "code",
   "execution_count": 120,
   "metadata": {},
   "outputs": [
    {
     "data": {
      "text/plain": [
       "['https://www.flipkart.com/apple-iphone-11-black-64-gb-includes-earpods-power-adapter/product-reviews/itm0f37c2240b217?pid=MOBFKCTSVZAXUHGR&lid=LSTMOBFKCTSVZAXUHGRRWP0SM&marketplace=FLIPKART&page=1',\n",
       " 'https://www.flipkart.com/apple-iphone-11-black-64-gb-includes-earpods-power-adapter/product-reviews/itm0f37c2240b217?pid=MOBFKCTSVZAXUHGR&lid=LSTMOBFKCTSVZAXUHGRRWP0SM&marketplace=FLIPKART&page=2',\n",
       " 'https://www.flipkart.com/apple-iphone-11-black-64-gb-includes-earpods-power-adapter/product-reviews/itm0f37c2240b217?pid=MOBFKCTSVZAXUHGR&lid=LSTMOBFKCTSVZAXUHGRRWP0SM&marketplace=FLIPKART&page=3',\n",
       " 'https://www.flipkart.com/apple-iphone-11-black-64-gb-includes-earpods-power-adapter/product-reviews/itm0f37c2240b217?pid=MOBFKCTSVZAXUHGR&lid=LSTMOBFKCTSVZAXUHGRRWP0SM&marketplace=FLIPKART&page=4',\n",
       " 'https://www.flipkart.com/apple-iphone-11-black-64-gb-includes-earpods-power-adapter/product-reviews/itm0f37c2240b217?pid=MOBFKCTSVZAXUHGR&lid=LSTMOBFKCTSVZAXUHGRRWP0SM&marketplace=FLIPKART&page=5',\n",
       " 'https://www.flipkart.com/apple-iphone-11-black-64-gb-includes-earpods-power-adapter/product-reviews/itm0f37c2240b217?pid=MOBFKCTSVZAXUHGR&lid=LSTMOBFKCTSVZAXUHGRRWP0SM&marketplace=FLIPKART&page=6',\n",
       " 'https://www.flipkart.com/apple-iphone-11-black-64-gb-includes-earpods-power-adapter/product-reviews/itm0f37c2240b217?pid=MOBFKCTSVZAXUHGR&lid=LSTMOBFKCTSVZAXUHGRRWP0SM&marketplace=FLIPKART&page=7',\n",
       " 'https://www.flipkart.com/apple-iphone-11-black-64-gb-includes-earpods-power-adapter/product-reviews/itm0f37c2240b217?pid=MOBFKCTSVZAXUHGR&lid=LSTMOBFKCTSVZAXUHGRRWP0SM&marketplace=FLIPKART&page=8',\n",
       " 'https://www.flipkart.com/apple-iphone-11-black-64-gb-includes-earpods-power-adapter/product-reviews/itm0f37c2240b217?pid=MOBFKCTSVZAXUHGR&lid=LSTMOBFKCTSVZAXUHGRRWP0SM&marketplace=FLIPKART&page=9',\n",
       " 'https://www.flipkart.com/apple-iphone-11-black-64-gb-includes-earpods-power-adapter/product-reviews/itm0f37c2240b217?pid=MOBFKCTSVZAXUHGR&lid=LSTMOBFKCTSVZAXUHGRRWP0SM&marketplace=FLIPKART&page=10']"
      ]
     },
     "execution_count": 120,
     "metadata": {},
     "output_type": "execute_result"
    }
   ],
   "source": [
    "r=driver.find_elements_by_xpath(\"//nav[@class='yFHi8N']/a\")\n",
    "urls=[i.get_attribute('href') for i in r[0:10]]\n",
    "urls"
   ]
  },
  {
   "cell_type": "code",
   "execution_count": 132,
   "metadata": {
    "scrolled": true
   },
   "outputs": [],
   "source": [
    "rating=[]\n",
    "description=[]\n",
    "review=[]\n",
    "for i in urls:\n",
    "    driver.get(i)\n",
    "    r=driver.find_elements_by_xpath(\"//div[@class='_3LWZlK _1BLPMq' or @class='_3LWZlK _1rdVr6 _1BLPMq']\")\n",
    "    for j in r:\n",
    "        rating.append(j.text)\n",
    "    \n",
    "    \n",
    "    d=driver.find_elements_by_xpath(\"//p[@class='_2-N8zT']\")\n",
    "    for j in d:\n",
    "        description.append(j.text)\n",
    "    \n",
    "    \n",
    "    rev=driver.find_elements_by_xpath(\"//div[@class='t-ZTKy']\")\n",
    "    for j in rev:\n",
    "        review.append(j.text)"
   ]
  },
  {
   "cell_type": "code",
   "execution_count": 134,
   "metadata": {},
   "outputs": [],
   "source": [
    "summary=pd.DataFrame({})\n",
    "summary['Rating']=rating\n",
    "summary['Short_Description']=description\n",
    "summary['Review']=review"
   ]
  },
  {
   "cell_type": "code",
   "execution_count": 135,
   "metadata": {},
   "outputs": [
    {
     "data": {
      "text/html": [
       "<div>\n",
       "<style scoped>\n",
       "    .dataframe tbody tr th:only-of-type {\n",
       "        vertical-align: middle;\n",
       "    }\n",
       "\n",
       "    .dataframe tbody tr th {\n",
       "        vertical-align: top;\n",
       "    }\n",
       "\n",
       "    .dataframe thead th {\n",
       "        text-align: right;\n",
       "    }\n",
       "</style>\n",
       "<table border=\"1\" class=\"dataframe\">\n",
       "  <thead>\n",
       "    <tr style=\"text-align: right;\">\n",
       "      <th></th>\n",
       "      <th>Rating</th>\n",
       "      <th>Short_Description</th>\n",
       "      <th>Review</th>\n",
       "    </tr>\n",
       "  </thead>\n",
       "  <tbody>\n",
       "    <tr>\n",
       "      <th>0</th>\n",
       "      <td>5</td>\n",
       "      <td>Perfect product!</td>\n",
       "      <td>Amazing phone with great cameras and better ba...</td>\n",
       "    </tr>\n",
       "    <tr>\n",
       "      <th>1</th>\n",
       "      <td>5</td>\n",
       "      <td>Great product</td>\n",
       "      <td>Amazing Powerful and Durable Gadget.\\n\\nI’m am...</td>\n",
       "    </tr>\n",
       "    <tr>\n",
       "      <th>2</th>\n",
       "      <td>5</td>\n",
       "      <td>Highly recommended</td>\n",
       "      <td>iphone 11 is a very good phone to buy only if ...</td>\n",
       "    </tr>\n",
       "    <tr>\n",
       "      <th>3</th>\n",
       "      <td>5</td>\n",
       "      <td>Perfect product!</td>\n",
       "      <td>It’s a must buy who is looking for an upgrade ...</td>\n",
       "    </tr>\n",
       "    <tr>\n",
       "      <th>4</th>\n",
       "      <td>5</td>\n",
       "      <td>Brilliant</td>\n",
       "      <td>The Best Phone for the Money\\n\\nThe iPhone 11 ...</td>\n",
       "    </tr>\n",
       "    <tr>\n",
       "      <th>...</th>\n",
       "      <td>...</td>\n",
       "      <td>...</td>\n",
       "      <td>...</td>\n",
       "    </tr>\n",
       "    <tr>\n",
       "      <th>95</th>\n",
       "      <td>4</td>\n",
       "      <td>Delightful</td>\n",
       "      <td>Nice camera for front and back.. The display i...</td>\n",
       "    </tr>\n",
       "    <tr>\n",
       "      <th>96</th>\n",
       "      <td>5</td>\n",
       "      <td>Fabulous!</td>\n",
       "      <td>Best phone in this price segment people say th...</td>\n",
       "    </tr>\n",
       "    <tr>\n",
       "      <th>97</th>\n",
       "      <td>5</td>\n",
       "      <td>Terrific</td>\n",
       "      <td>I got this beast today. And I must say the pic...</td>\n",
       "    </tr>\n",
       "    <tr>\n",
       "      <th>98</th>\n",
       "      <td>5</td>\n",
       "      <td>Excellent</td>\n",
       "      <td>Got mobile @56,990 on 8 oct 2020 when all othe...</td>\n",
       "    </tr>\n",
       "    <tr>\n",
       "      <th>99</th>\n",
       "      <td>5</td>\n",
       "      <td>Terrific</td>\n",
       "      <td>Have used both iPhone X and iPhone XR and I ca...</td>\n",
       "    </tr>\n",
       "  </tbody>\n",
       "</table>\n",
       "<p>100 rows × 3 columns</p>\n",
       "</div>"
      ],
      "text/plain": [
       "   Rating   Short_Description  \\\n",
       "0       5    Perfect product!   \n",
       "1       5       Great product   \n",
       "2       5  Highly recommended   \n",
       "3       5    Perfect product!   \n",
       "4       5           Brilliant   \n",
       "..    ...                 ...   \n",
       "95      4          Delightful   \n",
       "96      5           Fabulous!   \n",
       "97      5            Terrific   \n",
       "98      5           Excellent   \n",
       "99      5            Terrific   \n",
       "\n",
       "                                               Review  \n",
       "0   Amazing phone with great cameras and better ba...  \n",
       "1   Amazing Powerful and Durable Gadget.\\n\\nI’m am...  \n",
       "2   iphone 11 is a very good phone to buy only if ...  \n",
       "3   It’s a must buy who is looking for an upgrade ...  \n",
       "4   The Best Phone for the Money\\n\\nThe iPhone 11 ...  \n",
       "..                                                ...  \n",
       "95  Nice camera for front and back.. The display i...  \n",
       "96  Best phone in this price segment people say th...  \n",
       "97  I got this beast today. And I must say the pic...  \n",
       "98  Got mobile @56,990 on 8 oct 2020 when all othe...  \n",
       "99  Have used both iPhone X and iPhone XR and I ca...  \n",
       "\n",
       "[100 rows x 3 columns]"
      ]
     },
     "execution_count": 135,
     "metadata": {},
     "output_type": "execute_result"
    }
   ],
   "source": [
    "summary"
   ]
  },
  {
   "cell_type": "code",
   "execution_count": 136,
   "metadata": {},
   "outputs": [],
   "source": [
    "driver.close()"
   ]
  },
  {
   "cell_type": "markdown",
   "metadata": {},
   "source": [
    "# Q8. Scrape data for 100 sneakers on flipkart.com."
   ]
  },
  {
   "cell_type": "code",
   "execution_count": 137,
   "metadata": {},
   "outputs": [],
   "source": [
    "#connecting to the webdirver\n",
    "driver=webdriver.Chrome(executable_path= r'C:\\Users\\Priyanka\\Documents\\chromedriver.exe')"
   ]
  },
  {
   "cell_type": "code",
   "execution_count": 138,
   "metadata": {},
   "outputs": [],
   "source": [
    "#opening the website\n",
    "driver.get('https://www.flipkart.com/')"
   ]
  },
  {
   "cell_type": "code",
   "execution_count": 139,
   "metadata": {},
   "outputs": [],
   "source": [
    "#searching for the elements for search box.\n",
    "driver.find_element_by_xpath(\"//div[@class='_3OO5Xc']/input\").send_keys('sneakers')\n",
    "driver.find_element_by_xpath(\"//button[@class='L0Z3Pu']\").click()"
   ]
  },
  {
   "cell_type": "code",
   "execution_count": 140,
   "metadata": {},
   "outputs": [],
   "source": [
    "#specifying the url of the website\n",
    "driver.get('https://www.flipkart.com/search?q=sneakers&otracker=search&otracker1=search&marketplace=FLIPKART&as-show=off&as=off')"
   ]
  },
  {
   "cell_type": "code",
   "execution_count": 141,
   "metadata": {},
   "outputs": [
    {
     "data": {
      "text/plain": [
       "['https://www.flipkart.com/search?q=sneakers&otracker=search&otracker1=search&marketplace=FLIPKART&as-show=off&as=off&page=1',\n",
       " 'https://www.flipkart.com/search?q=sneakers&otracker=search&otracker1=search&marketplace=FLIPKART&as-show=off&as=off&page=2',\n",
       " 'https://www.flipkart.com/search?q=sneakers&otracker=search&otracker1=search&marketplace=FLIPKART&as-show=off&as=off&page=3']"
      ]
     },
     "execution_count": 141,
     "metadata": {},
     "output_type": "execute_result"
    }
   ],
   "source": [
    "urls=driver.find_elements_by_xpath(\"//nav[@class='yFHi8N']/a\")\n",
    "url=[i.get_attribute('href') for i in urls[0:3]]\n",
    "url"
   ]
  },
  {
   "cell_type": "code",
   "execution_count": 142,
   "metadata": {},
   "outputs": [],
   "source": [
    "#scraping the information\n",
    "brand=[]\n",
    "des=[]\n",
    "price=[]\n",
    "dis=[]\n",
    "for i in url:\n",
    "    driver.get(i)\n",
    "    b=driver.find_elements_by_xpath(\"//div[@class='_2WkVRV']\")\n",
    "    for j in b:\n",
    "        brand.append(j.text)\n",
    "    \n",
    "    \n",
    "    d=driver.find_elements_by_xpath(\"//div[@class='_2B099V']/a[1]\")\n",
    "    for j in d:\n",
    "        des.append(j.text)\n",
    "    \n",
    "    \n",
    "    p=driver.find_elements_by_xpath(\"//a[@class='_3bPFwb']/div[1]/div[1]\")\n",
    "    for j in p:\n",
    "        price.append(j.text)\n",
    "    \n",
    "        \n",
    "    di=driver.find_elements_by_xpath(\"//a[@class='_3bPFwb']/div[1]/div[3]\")\n",
    "    for j in di:\n",
    "        dis.append(j.text)\n",
    "    \n",
    "    \n",
    "    "
   ]
  },
  {
   "cell_type": "code",
   "execution_count": 143,
   "metadata": {},
   "outputs": [
    {
     "data": {
      "text/html": [
       "<div>\n",
       "<style scoped>\n",
       "    .dataframe tbody tr th:only-of-type {\n",
       "        vertical-align: middle;\n",
       "    }\n",
       "\n",
       "    .dataframe tbody tr th {\n",
       "        vertical-align: top;\n",
       "    }\n",
       "\n",
       "    .dataframe thead th {\n",
       "        text-align: right;\n",
       "    }\n",
       "</style>\n",
       "<table border=\"1\" class=\"dataframe\">\n",
       "  <thead>\n",
       "    <tr style=\"text-align: right;\">\n",
       "      <th></th>\n",
       "      <th>Brand</th>\n",
       "      <th>Product_Description</th>\n",
       "      <th>Price</th>\n",
       "      <th>Discount</th>\n",
       "    </tr>\n",
       "  </thead>\n",
       "  <tbody>\n",
       "    <tr>\n",
       "      <th>0</th>\n",
       "      <td>Stinson</td>\n",
       "      <td>Combo Pack Of 2 Sneakers For Men</td>\n",
       "      <td>₹399</td>\n",
       "      <td>60% off</td>\n",
       "    </tr>\n",
       "    <tr>\n",
       "      <th>1</th>\n",
       "      <td>Crysta</td>\n",
       "      <td>349 NAVY BLUE Sneakers For Men</td>\n",
       "      <td>₹197</td>\n",
       "      <td>60% off</td>\n",
       "    </tr>\n",
       "    <tr>\n",
       "      <th>2</th>\n",
       "      <td>Chevit</td>\n",
       "      <td>Combo Pack of 4 Casual Sneakers With Sneakers ...</td>\n",
       "      <td>₹449</td>\n",
       "      <td>77% off</td>\n",
       "    </tr>\n",
       "    <tr>\n",
       "      <th>3</th>\n",
       "      <td>Robbie jones</td>\n",
       "      <td>Casual Sneakers Shoes For Men Sneakers For Men</td>\n",
       "      <td>₹399</td>\n",
       "      <td>60% off</td>\n",
       "    </tr>\n",
       "    <tr>\n",
       "      <th>4</th>\n",
       "      <td>Oricum</td>\n",
       "      <td>Combo pack of 2 casual sneaker shoes for men S...</td>\n",
       "      <td>₹398</td>\n",
       "      <td>60% off</td>\n",
       "    </tr>\n",
       "    <tr>\n",
       "      <th>...</th>\n",
       "      <td>...</td>\n",
       "      <td>...</td>\n",
       "      <td>...</td>\n",
       "      <td>...</td>\n",
       "    </tr>\n",
       "    <tr>\n",
       "      <th>95</th>\n",
       "      <td>Chevit</td>\n",
       "      <td>Chevit Trendy Fashion Sports Combo Pack of 3 P...</td>\n",
       "      <td>₹597</td>\n",
       "      <td>66% off</td>\n",
       "    </tr>\n",
       "    <tr>\n",
       "      <th>96</th>\n",
       "      <td>Oricum</td>\n",
       "      <td>ORIFWSH(OR)-1077 Sneakers For Men</td>\n",
       "      <td>₹214</td>\n",
       "      <td>57% off</td>\n",
       "    </tr>\n",
       "    <tr>\n",
       "      <th>97</th>\n",
       "      <td>Zsyto</td>\n",
       "      <td>Sneakers For Men</td>\n",
       "      <td>₹345</td>\n",
       "      <td>73% off</td>\n",
       "    </tr>\n",
       "    <tr>\n",
       "      <th>98</th>\n",
       "      <td>World Wear Footwear</td>\n",
       "      <td>Sneakers For Men</td>\n",
       "      <td>₹228</td>\n",
       "      <td>54% off</td>\n",
       "    </tr>\n",
       "    <tr>\n",
       "      <th>99</th>\n",
       "      <td>DOC Martin</td>\n",
       "      <td>Sneakers For Men</td>\n",
       "      <td>₹999</td>\n",
       "      <td>68% off</td>\n",
       "    </tr>\n",
       "  </tbody>\n",
       "</table>\n",
       "<p>100 rows × 4 columns</p>\n",
       "</div>"
      ],
      "text/plain": [
       "                  Brand                                Product_Description  \\\n",
       "0               Stinson                   Combo Pack Of 2 Sneakers For Men   \n",
       "1                Crysta                     349 NAVY BLUE Sneakers For Men   \n",
       "2                Chevit  Combo Pack of 4 Casual Sneakers With Sneakers ...   \n",
       "3          Robbie jones     Casual Sneakers Shoes For Men Sneakers For Men   \n",
       "4                Oricum  Combo pack of 2 casual sneaker shoes for men S...   \n",
       "..                  ...                                                ...   \n",
       "95               Chevit  Chevit Trendy Fashion Sports Combo Pack of 3 P...   \n",
       "96               Oricum                  ORIFWSH(OR)-1077 Sneakers For Men   \n",
       "97                Zsyto                                   Sneakers For Men   \n",
       "98  World Wear Footwear                                   Sneakers For Men   \n",
       "99           DOC Martin                                   Sneakers For Men   \n",
       "\n",
       "   Price Discount  \n",
       "0   ₹399  60% off  \n",
       "1   ₹197  60% off  \n",
       "2   ₹449  77% off  \n",
       "3   ₹399  60% off  \n",
       "4   ₹398  60% off  \n",
       "..   ...      ...  \n",
       "95  ₹597  66% off  \n",
       "96  ₹214  57% off  \n",
       "97  ₹345  73% off  \n",
       "98  ₹228  54% off  \n",
       "99  ₹999  68% off  \n",
       "\n",
       "[100 rows x 4 columns]"
      ]
     },
     "execution_count": 143,
     "metadata": {},
     "output_type": "execute_result"
    }
   ],
   "source": [
    "sneakers=pd.DataFrame({})\n",
    "sneakers['Brand']=brand[0:100]\n",
    "sneakers['Product_Description']=des[0:100]\n",
    "sneakers['Price']=price[0:100]\n",
    "sneakers['Discount']=dis[0:100]\n",
    "sneakers"
   ]
  },
  {
   "cell_type": "code",
   "execution_count": 144,
   "metadata": {},
   "outputs": [],
   "source": [
    "driver.close()"
   ]
  },
  {
   "cell_type": "markdown",
   "metadata": {},
   "source": [
    "# Q9. Scrape Brand Name, Shoe description and price for 100 shoes from Myntra."
   ]
  },
  {
   "cell_type": "code",
   "execution_count": 161,
   "metadata": {},
   "outputs": [],
   "source": [
    "#connecting to the webdriver\n",
    "driver=webdriver.Chrome(executable_path= r'C:\\Users\\Priyanka\\Documents\\chromedriver.exe')"
   ]
  },
  {
   "cell_type": "code",
   "execution_count": 162,
   "metadata": {},
   "outputs": [],
   "source": [
    "#opening the website\n",
    "driver.get('https://www.myntra.com/shoes')"
   ]
  },
  {
   "cell_type": "code",
   "execution_count": 163,
   "metadata": {},
   "outputs": [],
   "source": [
    "#searching the elements for checkbox for color of the shoes \"black\".\n",
    "driver.find_element_by_xpath(\"//label[@class='common-customCheckbox']//div[1]\").click()"
   ]
  },
  {
   "cell_type": "code",
   "execution_count": 164,
   "metadata": {},
   "outputs": [],
   "source": [
    "#searching for the elements for checkbox of price 6665-13110 i.e the second checkbox in the price list.\n",
    "driver.find_element_by_xpath(\"//ul[@class='price-list']//li[2]\").click()"
   ]
  },
  {
   "cell_type": "code",
   "execution_count": 165,
   "metadata": {},
   "outputs": [],
   "source": [
    "#specifying the url of the website\n",
    "driver.get('https://www.myntra.com/shoes?f=Color%3ABlack_36454f&plaEnabled=false&rf=Price%3A6665.0_13110.0_6665.0%20TO%2013110.0')"
   ]
  },
  {
   "cell_type": "code",
   "execution_count": 166,
   "metadata": {},
   "outputs": [
    {
     "data": {
      "text/plain": [
       "['https://www.myntra.com/shoes?f=Color%3ABlack_36454f&plaEnabled=false&rf=Price%3A6665.0_13110.0_6665.0%20TO%2013110.0',\n",
       " 'https://www.myntra.com/shoes?f=Color%3ABlack_36454f&plaEnabled=false&rf=Price%3A6665.0_13110.0_6665.0%20TO%2013110.0&p=2']"
      ]
     },
     "execution_count": 166,
     "metadata": {},
     "output_type": "execute_result"
    }
   ],
   "source": [
    "a=driver.find_elements_by_xpath(\"//li[@class='pagination-active' or @class='pagination-number']/a\")\n",
    "link=([i.get_attribute('href') for i in a[0:2]])\n",
    "link"
   ]
  },
  {
   "cell_type": "code",
   "execution_count": 167,
   "metadata": {},
   "outputs": [],
   "source": [
    "#scraping the information\n",
    "Brand=[]\n",
    "Description=[]\n",
    "Price=[]\n",
    "for i in link:\n",
    "    driver.get(i)\n",
    "    br=driver.find_elements_by_xpath(\"//h3[@class='product-brand']\")\n",
    "    for j in br:\n",
    "        Brand.append(j.text)\n",
    "    \n",
    "    \n",
    "    pr=driver.find_elements_by_xpath(\"//div[@class='product-price']//span[1]\")\n",
    "    for j in pr:\n",
    "        Price.append(j.text)\n",
    "    \n",
    "    des=driver.find_elements_by_xpath(\"//h4[@class='product-product']\")\n",
    "    for j in des:\n",
    "        Description.append(j.text)"
   ]
  },
  {
   "cell_type": "code",
   "execution_count": 171,
   "metadata": {},
   "outputs": [
    {
     "data": {
      "text/plain": [
       "100"
      ]
     },
     "execution_count": 171,
     "metadata": {},
     "output_type": "execute_result"
    }
   ],
   "source": [
    "price=[]\n",
    "for j in Price:\n",
    "    if len(j)<10:\n",
    "        price.append(j)\n",
    "len(price)"
   ]
  },
  {
   "cell_type": "code",
   "execution_count": 173,
   "metadata": {},
   "outputs": [
    {
     "data": {
      "text/html": [
       "<div>\n",
       "<style scoped>\n",
       "    .dataframe tbody tr th:only-of-type {\n",
       "        vertical-align: middle;\n",
       "    }\n",
       "\n",
       "    .dataframe tbody tr th {\n",
       "        vertical-align: top;\n",
       "    }\n",
       "\n",
       "    .dataframe thead th {\n",
       "        text-align: right;\n",
       "    }\n",
       "</style>\n",
       "<table border=\"1\" class=\"dataframe\">\n",
       "  <thead>\n",
       "    <tr style=\"text-align: right;\">\n",
       "      <th></th>\n",
       "      <th>Shoe_Brand</th>\n",
       "      <th>Shoe_Price</th>\n",
       "      <th>Shoe_Description</th>\n",
       "    </tr>\n",
       "  </thead>\n",
       "  <tbody>\n",
       "    <tr>\n",
       "      <th>0</th>\n",
       "      <td>Nike</td>\n",
       "      <td>Rs. 7927</td>\n",
       "      <td>Men AIR MAX 90 Sneakers</td>\n",
       "    </tr>\n",
       "    <tr>\n",
       "      <th>1</th>\n",
       "      <td>Nike</td>\n",
       "      <td>Rs. 7996</td>\n",
       "      <td>PEGASUS FLYEASE Running Shoes</td>\n",
       "    </tr>\n",
       "    <tr>\n",
       "      <th>2</th>\n",
       "      <td>Nike</td>\n",
       "      <td>Rs. 7195</td>\n",
       "      <td>Men RENEW RUN 2 Running Shoes</td>\n",
       "    </tr>\n",
       "    <tr>\n",
       "      <th>3</th>\n",
       "      <td>Nike</td>\n",
       "      <td>Rs. 12495</td>\n",
       "      <td>Men JORDAN DELTA Basketball</td>\n",
       "    </tr>\n",
       "    <tr>\n",
       "      <th>4</th>\n",
       "      <td>ADIDAS</td>\n",
       "      <td>Rs. 9239</td>\n",
       "      <td>Men SOLAR DRIVE 19 M Running</td>\n",
       "    </tr>\n",
       "    <tr>\n",
       "      <th>...</th>\n",
       "      <td>...</td>\n",
       "      <td>...</td>\n",
       "      <td>...</td>\n",
       "    </tr>\n",
       "    <tr>\n",
       "      <th>95</th>\n",
       "      <td>UNDER ARMOUR</td>\n",
       "      <td>Rs. 9999</td>\n",
       "      <td>Women HOVR Rise 2 Training</td>\n",
       "    </tr>\n",
       "    <tr>\n",
       "      <th>96</th>\n",
       "      <td>UNDER ARMOUR</td>\n",
       "      <td>Rs. 10999</td>\n",
       "      <td>HOVR Sonic 3 Running Shoes</td>\n",
       "    </tr>\n",
       "    <tr>\n",
       "      <th>97</th>\n",
       "      <td>Geox</td>\n",
       "      <td>Rs. 8999</td>\n",
       "      <td>Women Solid Flatforms</td>\n",
       "    </tr>\n",
       "    <tr>\n",
       "      <th>98</th>\n",
       "      <td>Hush Puppies</td>\n",
       "      <td>Rs. 6999</td>\n",
       "      <td>Men Leather Loafers</td>\n",
       "    </tr>\n",
       "    <tr>\n",
       "      <th>99</th>\n",
       "      <td>Saint G</td>\n",
       "      <td>Rs. 7600</td>\n",
       "      <td>Women Leather Heeled Boots</td>\n",
       "    </tr>\n",
       "  </tbody>\n",
       "</table>\n",
       "<p>100 rows × 3 columns</p>\n",
       "</div>"
      ],
      "text/plain": [
       "      Shoe_Brand Shoe_Price               Shoe_Description\n",
       "0           Nike   Rs. 7927        Men AIR MAX 90 Sneakers\n",
       "1           Nike   Rs. 7996  PEGASUS FLYEASE Running Shoes\n",
       "2           Nike   Rs. 7195  Men RENEW RUN 2 Running Shoes\n",
       "3           Nike  Rs. 12495    Men JORDAN DELTA Basketball\n",
       "4         ADIDAS   Rs. 9239   Men SOLAR DRIVE 19 M Running\n",
       "..           ...        ...                            ...\n",
       "95  UNDER ARMOUR   Rs. 9999     Women HOVR Rise 2 Training\n",
       "96  UNDER ARMOUR  Rs. 10999     HOVR Sonic 3 Running Shoes\n",
       "97          Geox   Rs. 8999          Women Solid Flatforms\n",
       "98  Hush Puppies   Rs. 6999            Men Leather Loafers\n",
       "99       Saint G   Rs. 7600     Women Leather Heeled Boots\n",
       "\n",
       "[100 rows x 3 columns]"
      ]
     },
     "execution_count": 173,
     "metadata": {},
     "output_type": "execute_result"
    }
   ],
   "source": [
    "shoes=pd.DataFrame({})\n",
    "shoes['Shoe_Brand']=Brand\n",
    "shoes['Shoe_Price']=price\n",
    "shoes['Shoe_Description']=Description\n",
    "shoes"
   ]
  },
  {
   "cell_type": "code",
   "execution_count": 174,
   "metadata": {},
   "outputs": [],
   "source": [
    "driver.close()"
   ]
  },
  {
   "cell_type": "markdown",
   "metadata": {},
   "source": [
    "# Q10. Scrape title, rating and price for first 10 laptops from amazon."
   ]
  },
  {
   "cell_type": "code",
   "execution_count": 3,
   "metadata": {},
   "outputs": [],
   "source": [
    "#connecting to the webdriver\n",
    "driver=webdriver.Chrome(executable_path= r'C:\\Users\\Priyanka\\Documents\\chromedriver.exe')"
   ]
  },
  {
   "cell_type": "code",
   "execution_count": 4,
   "metadata": {},
   "outputs": [],
   "source": [
    "#opening the website\n",
    "driver.get('https://www.amazon.in/')"
   ]
  },
  {
   "cell_type": "code",
   "execution_count": 5,
   "metadata": {},
   "outputs": [],
   "source": [
    "#searching elements for the search box.\n",
    "driver.find_element_by_id('twotabsearchtextbox').send_keys('Laptop')"
   ]
  },
  {
   "cell_type": "code",
   "execution_count": 6,
   "metadata": {},
   "outputs": [],
   "source": [
    "driver.find_element_by_id('nav-search-submit-text').click()"
   ]
  },
  {
   "cell_type": "code",
   "execution_count": 7,
   "metadata": {},
   "outputs": [],
   "source": [
    "#clicking on the checkbox 'Intel core i7'\n",
    "driver.find_element_by_xpath(\"//li[@class='a-spacing-micro' and @id='p_n_feature_thirteen_browse-bin/12598163031']//label\").click()"
   ]
  },
  {
   "cell_type": "code",
   "execution_count": 8,
   "metadata": {},
   "outputs": [],
   "source": [
    "#clicking on the checkbox intel core i9\n",
    "driver.find_element_by_xpath(\"//li[@class='a-spacing-micro' and @id='p_n_feature_thirteen_browse-bin/16757432031']//label\").click()"
   ]
  },
  {
   "cell_type": "code",
   "execution_count": 9,
   "metadata": {},
   "outputs": [],
   "source": [
    "#specifying the url of the website\n",
    "driver.get('https://www.amazon.in/s?k=Laptop&i=computers&rh=n%3A1375424031%2Cp_n_feature_thirteen_browse-bin%3A12598163031%7C16757432031&dc&qid=1613455470&rnid=12598141031&ref=sr_nr_p_n_feature_thirteen_browse-bin_17')"
   ]
  },
  {
   "cell_type": "code",
   "execution_count": 10,
   "metadata": {},
   "outputs": [
    {
     "data": {
      "text/plain": [
       "['https://www.amazon.in/Notebook-Horizon-i5-10210U-Graphics-XMA1904-AR/dp/B089F5JGM1/ref=sr_1_1?dchild=1&keywords=Laptop&qid=1613455470&refinements=p_n_feature_thirteen_browse-bin%3A12598163031%7C16757432031&rnid=12598141031&s=computers&sr=1-1',\n",
       " 'https://www.amazon.in/HP-Pavilion-Touchscreen-i7-10510U-14-dh1180tu/dp/B08GD8LQTY/ref=sr_1_2?dchild=1&keywords=Laptop&qid=1613455470&refinements=p_n_feature_thirteen_browse-bin%3A12598163031%7C16757432031&rnid=12598141031&s=computers&sr=1-2',\n",
       " 'https://www.amazon.in/Lenovo-Windows-Graphics-Phantom-82AU00KKIN/dp/B08JLSBJCW/ref=sr_1_3?dchild=1&keywords=Laptop&qid=1613455470&refinements=p_n_feature_thirteen_browse-bin%3A12598163031%7C16757432031&rnid=12598141031&s=computers&sr=1-3',\n",
       " 'https://www.amazon.in/ASUS-i9-10980HK-Touchscreen-Celestial-UX581LV-H2035T/dp/B08CHDLVT1/ref=sr_1_4?dchild=1&keywords=Laptop&qid=1613455470&refinements=p_n_feature_thirteen_browse-bin%3A12598163031%7C16757432031&rnid=12598141031&s=computers&sr=1-4',\n",
       " 'https://www.amazon.in/Lenovo-IdeaPad-15-6-inch-Windows-81Y400VAIN/dp/B08PV48PYW/ref=sr_1_5?dchild=1&keywords=Laptop&qid=1613455470&refinements=p_n_feature_thirteen_browse-bin%3A12598163031%7C16757432031&rnid=12598141031&s=computers&sr=1-5',\n",
       " 'https://www.amazon.in/HP-14-inch-i7-1165G7-Windows-14s-dr2007TU/dp/B08N57LR4X/ref=sr_1_6?dchild=1&keywords=Laptop&qid=1613455470&refinements=p_n_feature_thirteen_browse-bin%3A12598163031%7C16757432031&rnid=12598141031&s=computers&sr=1-6',\n",
       " 'https://www.amazon.in/ASUS-ZenBook-i7-1165G7-Graphics-UX425EA-BM701TS/dp/B08M4SWRR5/ref=sr_1_7?dchild=1&keywords=Laptop&qid=1613455470&refinements=p_n_feature_thirteen_browse-bin%3A12598163031%7C16757432031&rnid=12598141031&s=computers&sr=1-7',\n",
       " 'https://www.amazon.in/Dell-15-6inch-i7-10750H-Warranty-D560250WIN9BE/dp/B08HYPRST4/ref=sr_1_8?dchild=1&keywords=Laptop&qid=1613455470&refinements=p_n_feature_thirteen_browse-bin%3A12598163031%7C16757432031&rnid=12598141031&s=computers&sr=1-8',\n",
       " 'https://www.amazon.in/Acer-Nitro-Intel-i7-17-3-inch/dp/B08D1BY2VK/ref=sr_1_9?dchild=1&keywords=Laptop&qid=1613455470&refinements=p_n_feature_thirteen_browse-bin%3A12598163031%7C16757432031&rnid=12598141031&s=computers&sr=1-9',\n",
       " 'https://www.amazon.in/HP-Laptop-i7-1065G7-Natural-14s-DR1010TU/dp/B08H2V92WV/ref=sr_1_10?dchild=1&keywords=Laptop&qid=1613455470&refinements=p_n_feature_thirteen_browse-bin%3A12598163031%7C16757432031&rnid=12598141031&s=computers&sr=1-10']"
      ]
     },
     "execution_count": 10,
     "metadata": {},
     "output_type": "execute_result"
    }
   ],
   "source": [
    "url=[]\n",
    "tag=driver.find_elements_by_xpath(\"//a[@class='a-link-normal a-text-normal']\")\n",
    "for i in tag[0:10]:\n",
    "    url.append(i.get_attribute('href'))\n",
    "url"
   ]
  },
  {
   "cell_type": "code",
   "execution_count": 13,
   "metadata": {},
   "outputs": [
    {
     "data": {
      "text/plain": [
       "['Mi Notebook Horizon Edition 14 Intel Core i5-10210U 10th Gen Thin and Light Laptop(8GB/512GB SSD/Windows 10/Nvidia MX350 2GB Graphics/Grey/1.35Kg), XMA1904-AR+Webcam',\n",
       " 'HP Pavilion x360 Touchscreen 2-in-1 FHD 14-inch Laptop (10th Gen Core i7-10510U/8GB/512GB SSD/Windows 10 Home/MS Office/Mineral Silver/1.58 kg), 14-dh1180tu',\n",
       " 'Lenovo Legion 5i 10th Gen Intel Core i7 15.6 inch Full HD IPS Gaming Laptop (16GB/1TB HDD + 256GB SSD/Windows 10/120 Hz/NVIDIA GTX 1650 4GB GDDR6 Graphics/Phantom Black/2.3Kg), 82AU00KKIN',\n",
       " 'ASUS ZenBook Pro Duo Intel Core i9-10980HK 10th Gen 15.6\" 4K UHD OLED Touchscreen Laptop (32GB RAM/1TB NVMe SSD/Windows 10/6GB NVIDIA GeForce RTX 2060 Graphics/Celestial Blue/2.5 Kg), UX581LV-H2035T',\n",
       " 'Lenovo IdeaPad Gaming 3i 10th Gen Intel Core i7 15.6-inch FHD IPS Gaming Laptop (8GB/1TB HDD + 256 GB SSD/Windows 10/NVIDIA GTX 1650 4GB GDDR6/with M100 RGB Gaming Mouse/Onyx Black/2.2Kg), 81Y400VAIN',\n",
       " 'HP 14 Thin & Light 14-inch FHD Laptop (11th Gen Intel i7-1165G7/8GB/512GB SSD/Windows 10/MS Office 2019/Alexa Built-in/Pale Gold/1.47 kg), 14s-dr2007TU',\n",
       " 'ASUS ZenBook 14 (2020) Intel Core i7-1165G7 11th Gen 14-inch FHD Thin and Light Laptop (16GB RAM/512GB NVMe SSD/Windows 10/MS Office 2019/Intel Iris Xᵉ Graphics/Pine Grey/1.17 kg), UX425EA-BM701TS',\n",
       " 'Dell G3 3500 Gaming 15.6inch 120hz FHD Display Laptop (10th Gen i7-10750H / 8 GB / 512 SSD / GTX 1650 4GB / 1Yr Premium Warranty/ Win 10 + MS Office H&S 2019) D560250WIN9BE',\n",
       " 'Acer Nitro 5 Intel i7 - 9th Gen 17.3-inch Display 1920 x 1080 Thin and Light Laptop (8GB Ram/1TB HDD/Window 10 Home/4GB NVIDIA GeForce GTX 1650 Graphics/Obsidian Black/ 2.7 kgs),AN517-51',\n",
       " 'HP 14 10th Gen Intel Core i7 Ultra Thin and Light FHD Laptop (i7-1065G7/8GB/512GB SSD/Win 10/MS Office 2019/Natural Silver/1.46 Kg), 14s-DR1010TU']"
      ]
     },
     "execution_count": 13,
     "metadata": {},
     "output_type": "execute_result"
    }
   ],
   "source": [
    "name=[]\n",
    "for i in url:\n",
    "    driver.get(i)\n",
    "    name.append(driver.find_element_by_xpath(\"//h1[@id='title']//span\").text)\n",
    "name"
   ]
  },
  {
   "cell_type": "code",
   "execution_count": 16,
   "metadata": {},
   "outputs": [
    {
     "data": {
      "text/plain": [
       "['50,999.00',\n",
       " '74,990.00',\n",
       " '89,990.00',\n",
       " '2,68,325.00',\n",
       " '77,990.00',\n",
       " '75,482.00',\n",
       " '96,133.00',\n",
       " '82,990.00',\n",
       " '74,980.00',\n",
       " '72,805.00']"
      ]
     },
     "execution_count": 16,
     "metadata": {},
     "output_type": "execute_result"
    }
   ],
   "source": [
    "price=[]\n",
    "for i in url:\n",
    "    driver.get(i)\n",
    "    p=driver.find_element_by_xpath(\"//span[@class='a-size-medium a-color-price priceBlockBuyingPriceString']\")\n",
    "    if p is not None:\n",
    "            price.append(p.text[2:])\n",
    "    else:\n",
    "        price.append('-')\n",
    "        \n",
    "price  "
   ]
  },
  {
   "cell_type": "code",
   "execution_count": 28,
   "metadata": {},
   "outputs": [
    {
     "data": {
      "text/plain": [
       "['4.2 out of 5 stars',\n",
       " '3.5 out of 5 stars',\n",
       " '4.2 out of 5 stars',\n",
       " '5.0 out of 5 stars',\n",
       " '3.8 out of 5 stars',\n",
       " '4.0 out of 5 stars',\n",
       " '4.3 out of 5 stars',\n",
       " '4.0 out of 5 stars',\n",
       " '4.1 out of 5 stars',\n",
       " '3.4 out of 5 stars']"
      ]
     },
     "execution_count": 28,
     "metadata": {},
     "output_type": "execute_result"
    }
   ],
   "source": [
    "contents=[]\n",
    "ratings=[]\n",
    "for i in url:\n",
    "    driver.get(i)\n",
    "    soup = BeautifulSoup(driver.page_source, 'html.parser')\n",
    "    contents.append(soup)\n",
    "    \n",
    "for j in contents:\n",
    "    r=j.find('div',attrs={'id':'averageCustomerReviews'})\n",
    "    if r is not None:\n",
    "        ratings.append(r.find('i').find('span').text)\n",
    "    else:\n",
    "        ratings.append('-')\n",
    "ratings"
   ]
  },
  {
   "cell_type": "code",
   "execution_count": 29,
   "metadata": {},
   "outputs": [
    {
     "data": {
      "text/html": [
       "<div>\n",
       "<style scoped>\n",
       "    .dataframe tbody tr th:only-of-type {\n",
       "        vertical-align: middle;\n",
       "    }\n",
       "\n",
       "    .dataframe tbody tr th {\n",
       "        vertical-align: top;\n",
       "    }\n",
       "\n",
       "    .dataframe thead th {\n",
       "        text-align: right;\n",
       "    }\n",
       "</style>\n",
       "<table border=\"1\" class=\"dataframe\">\n",
       "  <thead>\n",
       "    <tr style=\"text-align: right;\">\n",
       "      <th></th>\n",
       "      <th>Model</th>\n",
       "      <th>Price</th>\n",
       "      <th>Rating</th>\n",
       "    </tr>\n",
       "  </thead>\n",
       "  <tbody>\n",
       "    <tr>\n",
       "      <th>0</th>\n",
       "      <td>Mi Notebook Horizon Edition 14 Intel Core i5-1...</td>\n",
       "      <td>50,999.00</td>\n",
       "      <td>4.2 out of 5 stars</td>\n",
       "    </tr>\n",
       "    <tr>\n",
       "      <th>1</th>\n",
       "      <td>HP Pavilion x360 Touchscreen 2-in-1 FHD 14-inc...</td>\n",
       "      <td>74,990.00</td>\n",
       "      <td>3.5 out of 5 stars</td>\n",
       "    </tr>\n",
       "    <tr>\n",
       "      <th>2</th>\n",
       "      <td>Lenovo Legion 5i 10th Gen Intel Core i7 15.6 i...</td>\n",
       "      <td>89,990.00</td>\n",
       "      <td>4.2 out of 5 stars</td>\n",
       "    </tr>\n",
       "    <tr>\n",
       "      <th>3</th>\n",
       "      <td>ASUS ZenBook Pro Duo Intel Core i9-10980HK 10t...</td>\n",
       "      <td>2,68,325.00</td>\n",
       "      <td>5.0 out of 5 stars</td>\n",
       "    </tr>\n",
       "    <tr>\n",
       "      <th>4</th>\n",
       "      <td>Lenovo IdeaPad Gaming 3i 10th Gen Intel Core i...</td>\n",
       "      <td>77,990.00</td>\n",
       "      <td>3.8 out of 5 stars</td>\n",
       "    </tr>\n",
       "    <tr>\n",
       "      <th>5</th>\n",
       "      <td>HP 14 Thin &amp; Light 14-inch FHD Laptop (11th Ge...</td>\n",
       "      <td>75,482.00</td>\n",
       "      <td>4.0 out of 5 stars</td>\n",
       "    </tr>\n",
       "    <tr>\n",
       "      <th>6</th>\n",
       "      <td>ASUS ZenBook 14 (2020) Intel Core i7-1165G7 11...</td>\n",
       "      <td>96,133.00</td>\n",
       "      <td>4.3 out of 5 stars</td>\n",
       "    </tr>\n",
       "    <tr>\n",
       "      <th>7</th>\n",
       "      <td>Dell G3 3500 Gaming 15.6inch 120hz FHD Display...</td>\n",
       "      <td>82,990.00</td>\n",
       "      <td>4.0 out of 5 stars</td>\n",
       "    </tr>\n",
       "    <tr>\n",
       "      <th>8</th>\n",
       "      <td>Acer Nitro 5 Intel i7 - 9th Gen 17.3-inch Disp...</td>\n",
       "      <td>74,980.00</td>\n",
       "      <td>4.1 out of 5 stars</td>\n",
       "    </tr>\n",
       "    <tr>\n",
       "      <th>9</th>\n",
       "      <td>HP 14 10th Gen Intel Core i7 Ultra Thin and Li...</td>\n",
       "      <td>72,805.00</td>\n",
       "      <td>3.4 out of 5 stars</td>\n",
       "    </tr>\n",
       "  </tbody>\n",
       "</table>\n",
       "</div>"
      ],
      "text/plain": [
       "                                               Model        Price  \\\n",
       "0  Mi Notebook Horizon Edition 14 Intel Core i5-1...    50,999.00   \n",
       "1  HP Pavilion x360 Touchscreen 2-in-1 FHD 14-inc...    74,990.00   \n",
       "2  Lenovo Legion 5i 10th Gen Intel Core i7 15.6 i...    89,990.00   \n",
       "3  ASUS ZenBook Pro Duo Intel Core i9-10980HK 10t...  2,68,325.00   \n",
       "4  Lenovo IdeaPad Gaming 3i 10th Gen Intel Core i...    77,990.00   \n",
       "5  HP 14 Thin & Light 14-inch FHD Laptop (11th Ge...    75,482.00   \n",
       "6  ASUS ZenBook 14 (2020) Intel Core i7-1165G7 11...    96,133.00   \n",
       "7  Dell G3 3500 Gaming 15.6inch 120hz FHD Display...    82,990.00   \n",
       "8  Acer Nitro 5 Intel i7 - 9th Gen 17.3-inch Disp...    74,980.00   \n",
       "9  HP 14 10th Gen Intel Core i7 Ultra Thin and Li...    72,805.00   \n",
       "\n",
       "               Rating  \n",
       "0  4.2 out of 5 stars  \n",
       "1  3.5 out of 5 stars  \n",
       "2  4.2 out of 5 stars  \n",
       "3  5.0 out of 5 stars  \n",
       "4  3.8 out of 5 stars  \n",
       "5  4.0 out of 5 stars  \n",
       "6  4.3 out of 5 stars  \n",
       "7  4.0 out of 5 stars  \n",
       "8  4.1 out of 5 stars  \n",
       "9  3.4 out of 5 stars  "
      ]
     },
     "execution_count": 29,
     "metadata": {},
     "output_type": "execute_result"
    }
   ],
   "source": [
    "laptop=pd.DataFrame({})\n",
    "laptop['Model']=name\n",
    "laptop['Price']=price\n",
    "laptop['Rating']=ratings\n",
    "laptop"
   ]
  },
  {
   "cell_type": "code",
   "execution_count": 30,
   "metadata": {},
   "outputs": [],
   "source": [
    "driver.close()"
   ]
  }
 ],
 "metadata": {
  "kernelspec": {
   "display_name": "Python 3",
   "language": "python",
   "name": "python3"
  },
  "language_info": {
   "codemirror_mode": {
    "name": "ipython",
    "version": 3
   },
   "file_extension": ".py",
   "mimetype": "text/x-python",
   "name": "python",
   "nbconvert_exporter": "python",
   "pygments_lexer": "ipython3",
   "version": "3.8.3"
  }
 },
 "nbformat": 4,
 "nbformat_minor": 4
}
